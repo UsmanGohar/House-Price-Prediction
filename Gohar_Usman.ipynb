{
 "cells": [
  {
   "cell_type": "markdown",
   "metadata": {},
   "source": [
    "## Overview"
   ]
  },
  {
   "cell_type": "markdown",
   "metadata": {},
   "source": [
    "- In this notebook, I am predicitng housing prices using King County Data. I'll be working on a developing linear regression models & XGBoost\n",
    "- You can find a detailed report attached"
   ]
  },
  {
   "cell_type": "code",
   "execution_count": 2,
   "metadata": {
    "hideCode": false,
    "hidePrompt": false
   },
   "outputs": [],
   "source": [
    "import matplotlib.pyplot as plt\n",
    "import seaborn as sns\n",
    "import pandas as pd\n",
    "from sklearn.linear_model import LinearRegression, Ridge, Lasso\n",
    "from sklearn.model_selection import train_test_split\n",
    "import numpy as np\n",
    "from sklearn import metrics\n",
    "from yellowbrick.regressor import ResidualsPlot\n",
    "from sklearn.metrics import median_absolute_error\n",
    "from statsmodels.stats.outliers_influence import variance_inflation_factor\n",
    "from sklearn_extensions.non_negative_garotte import NonNegativeGarrote\n",
    "import matplotlib.style as style\n",
    "from scipy.stats import skew  # for some statistics\n",
    "import xgboost as xgb\n",
    "from scipy.stats import kstest\n",
    "from sklearn.preprocessing import scale\n",
    "from scipy import stats\n",
    "from sklearn import metrics\n",
    "from scipy.stats import skew\n",
    "from scipy.special import boxcox1p\n",
    "from scipy.stats import boxcox_normmax\n",
    "from sklearn.preprocessing import MinMaxScaler, StandardScaler"
   ]
  },
  {
   "cell_type": "code",
   "execution_count": 3,
   "metadata": {},
   "outputs": [],
   "source": [
    "df = pd.read_csv (r'D:\\ZillowInterview\\DataScience ZExercise_TRAINING_CONFIDENTIAL1.csv',index_col = 'PropertyID')\n",
    "df_test = pd.read_csv (r'D:\\ZillowInterview\\Data Science ZExercise_TEST_CONFIDENTIAL2.csv',index_col = 'PropertyID')"
   ]
  },
  {
   "cell_type": "markdown",
   "metadata": {},
   "source": [
    "##### Sample of the data shows the column and data types"
   ]
  },
  {
   "cell_type": "code",
   "execution_count": 4,
   "metadata": {},
   "outputs": [
    {
     "data": {
      "text/html": [
       "<div>\n",
       "<style scoped>\n",
       "    .dataframe tbody tr th:only-of-type {\n",
       "        vertical-align: middle;\n",
       "    }\n",
       "\n",
       "    .dataframe tbody tr th {\n",
       "        vertical-align: top;\n",
       "    }\n",
       "\n",
       "    .dataframe thead th {\n",
       "        text-align: right;\n",
       "    }\n",
       "</style>\n",
       "<table border=\"1\" class=\"dataframe\">\n",
       "  <thead>\n",
       "    <tr style=\"text-align: right;\">\n",
       "      <th></th>\n",
       "      <th>SaleDollarCnt</th>\n",
       "      <th>TransDate</th>\n",
       "      <th>censusblockgroup</th>\n",
       "      <th>ZoneCodeCounty</th>\n",
       "      <th>Usecode</th>\n",
       "      <th>BedroomCnt</th>\n",
       "      <th>BathroomCnt</th>\n",
       "      <th>FinishedSquareFeet</th>\n",
       "      <th>GarageSquareFeet</th>\n",
       "      <th>LotSizeSquareFeet</th>\n",
       "      <th>...</th>\n",
       "      <th>Latitude</th>\n",
       "      <th>Longitude</th>\n",
       "      <th>BGMedHomeValue</th>\n",
       "      <th>BGMedRent</th>\n",
       "      <th>BGMedYearBuilt</th>\n",
       "      <th>BGPctOwn</th>\n",
       "      <th>BGPctVacant</th>\n",
       "      <th>BGMedIncome</th>\n",
       "      <th>BGPctKids</th>\n",
       "      <th>BGMedAge</th>\n",
       "    </tr>\n",
       "    <tr>\n",
       "      <th>PropertyID</th>\n",
       "      <th></th>\n",
       "      <th></th>\n",
       "      <th></th>\n",
       "      <th></th>\n",
       "      <th></th>\n",
       "      <th></th>\n",
       "      <th></th>\n",
       "      <th></th>\n",
       "      <th></th>\n",
       "      <th></th>\n",
       "      <th></th>\n",
       "      <th></th>\n",
       "      <th></th>\n",
       "      <th></th>\n",
       "      <th></th>\n",
       "      <th></th>\n",
       "      <th></th>\n",
       "      <th></th>\n",
       "      <th></th>\n",
       "      <th></th>\n",
       "      <th></th>\n",
       "    </tr>\n",
       "  </thead>\n",
       "  <tbody>\n",
       "    <tr>\n",
       "      <th>48648941</th>\n",
       "      <td>285000.0</td>\n",
       "      <td>5/23/2015</td>\n",
       "      <td>5.300000e+11</td>\n",
       "      <td>R7</td>\n",
       "      <td>9</td>\n",
       "      <td>4.0</td>\n",
       "      <td>2.00</td>\n",
       "      <td>1900.0</td>\n",
       "      <td>480.0</td>\n",
       "      <td>7482</td>\n",
       "      <td>...</td>\n",
       "      <td>47321389</td>\n",
       "      <td>-122213716</td>\n",
       "      <td>107800.0</td>\n",
       "      <td>844.0</td>\n",
       "      <td>1975.0</td>\n",
       "      <td>0.6685</td>\n",
       "      <td>0.0780</td>\n",
       "      <td>42854</td>\n",
       "      <td>0.1924</td>\n",
       "      <td>48.6</td>\n",
       "    </tr>\n",
       "    <tr>\n",
       "      <th>48648982</th>\n",
       "      <td>309950.0</td>\n",
       "      <td>8/22/2015</td>\n",
       "      <td>5.300000e+11</td>\n",
       "      <td>R8P</td>\n",
       "      <td>9</td>\n",
       "      <td>3.0</td>\n",
       "      <td>2.00</td>\n",
       "      <td>2170.0</td>\n",
       "      <td>320.0</td>\n",
       "      <td>14208</td>\n",
       "      <td>...</td>\n",
       "      <td>47482082</td>\n",
       "      <td>-122244269</td>\n",
       "      <td>181500.0</td>\n",
       "      <td>925.0</td>\n",
       "      <td>1969.0</td>\n",
       "      <td>0.5753</td>\n",
       "      <td>0.0192</td>\n",
       "      <td>54013</td>\n",
       "      <td>0.3718</td>\n",
       "      <td>42.6</td>\n",
       "    </tr>\n",
       "    <tr>\n",
       "      <th>48649024</th>\n",
       "      <td>476000.0</td>\n",
       "      <td>8/27/2015</td>\n",
       "      <td>5.300000e+11</td>\n",
       "      <td>SF 7200</td>\n",
       "      <td>9</td>\n",
       "      <td>4.0</td>\n",
       "      <td>1.00</td>\n",
       "      <td>2150.0</td>\n",
       "      <td>590.0</td>\n",
       "      <td>6500</td>\n",
       "      <td>...</td>\n",
       "      <td>47561383</td>\n",
       "      <td>-122308083</td>\n",
       "      <td>344300.0</td>\n",
       "      <td>733.0</td>\n",
       "      <td>1946.0</td>\n",
       "      <td>0.6331</td>\n",
       "      <td>0.0000</td>\n",
       "      <td>56782</td>\n",
       "      <td>0.3207</td>\n",
       "      <td>40.7</td>\n",
       "    </tr>\n",
       "    <tr>\n",
       "      <th>48649040</th>\n",
       "      <td>324950.0</td>\n",
       "      <td>7/1/2015</td>\n",
       "      <td>5.300000e+11</td>\n",
       "      <td>R1</td>\n",
       "      <td>9</td>\n",
       "      <td>4.0</td>\n",
       "      <td>2.25</td>\n",
       "      <td>2560.0</td>\n",
       "      <td>NaN</td>\n",
       "      <td>15767</td>\n",
       "      <td>...</td>\n",
       "      <td>47387929</td>\n",
       "      <td>-122279389</td>\n",
       "      <td>284200.0</td>\n",
       "      <td>900.0</td>\n",
       "      <td>1977.0</td>\n",
       "      <td>0.5456</td>\n",
       "      <td>0.0573</td>\n",
       "      <td>44200</td>\n",
       "      <td>0.3359</td>\n",
       "      <td>40.0</td>\n",
       "    </tr>\n",
       "    <tr>\n",
       "      <th>48649057</th>\n",
       "      <td>325000.0</td>\n",
       "      <td>6/20/2015</td>\n",
       "      <td>5.300000e+11</td>\n",
       "      <td>LDR</td>\n",
       "      <td>9</td>\n",
       "      <td>4.0</td>\n",
       "      <td>1.75</td>\n",
       "      <td>1720.0</td>\n",
       "      <td>NaN</td>\n",
       "      <td>8620</td>\n",
       "      <td>...</td>\n",
       "      <td>47477068</td>\n",
       "      <td>-122263852</td>\n",
       "      <td>290100.0</td>\n",
       "      <td>802.0</td>\n",
       "      <td>1972.0</td>\n",
       "      <td>0.4267</td>\n",
       "      <td>0.0551</td>\n",
       "      <td>65282</td>\n",
       "      <td>0.1633</td>\n",
       "      <td>44.4</td>\n",
       "    </tr>\n",
       "  </tbody>\n",
       "</table>\n",
       "<p>5 rows × 23 columns</p>\n",
       "</div>"
      ],
      "text/plain": [
       "            SaleDollarCnt  TransDate  censusblockgroup ZoneCodeCounty  \\\n",
       "PropertyID                                                              \n",
       "48648941         285000.0  5/23/2015      5.300000e+11             R7   \n",
       "48648982         309950.0  8/22/2015      5.300000e+11            R8P   \n",
       "48649024         476000.0  8/27/2015      5.300000e+11        SF 7200   \n",
       "48649040         324950.0   7/1/2015      5.300000e+11             R1   \n",
       "48649057         325000.0  6/20/2015      5.300000e+11            LDR   \n",
       "\n",
       "            Usecode  BedroomCnt  BathroomCnt  FinishedSquareFeet  \\\n",
       "PropertyID                                                         \n",
       "48648941          9         4.0         2.00              1900.0   \n",
       "48648982          9         3.0         2.00              2170.0   \n",
       "48649024          9         4.0         1.00              2150.0   \n",
       "48649040          9         4.0         2.25              2560.0   \n",
       "48649057          9         4.0         1.75              1720.0   \n",
       "\n",
       "            GarageSquareFeet  LotSizeSquareFeet  ...  Latitude  Longitude  \\\n",
       "PropertyID                                       ...                        \n",
       "48648941               480.0               7482  ...  47321389 -122213716   \n",
       "48648982               320.0              14208  ...  47482082 -122244269   \n",
       "48649024               590.0               6500  ...  47561383 -122308083   \n",
       "48649040                 NaN              15767  ...  47387929 -122279389   \n",
       "48649057                 NaN               8620  ...  47477068 -122263852   \n",
       "\n",
       "            BGMedHomeValue  BGMedRent  BGMedYearBuilt  BGPctOwn  BGPctVacant  \\\n",
       "PropertyID                                                                     \n",
       "48648941          107800.0      844.0          1975.0    0.6685       0.0780   \n",
       "48648982          181500.0      925.0          1969.0    0.5753       0.0192   \n",
       "48649024          344300.0      733.0          1946.0    0.6331       0.0000   \n",
       "48649040          284200.0      900.0          1977.0    0.5456       0.0573   \n",
       "48649057          290100.0      802.0          1972.0    0.4267       0.0551   \n",
       "\n",
       "            BGMedIncome  BGPctKids  BGMedAge  \n",
       "PropertyID                                    \n",
       "48648941          42854     0.1924      48.6  \n",
       "48648982          54013     0.3718      42.6  \n",
       "48649024          56782     0.3207      40.7  \n",
       "48649040          44200     0.3359      40.0  \n",
       "48649057          65282     0.1633      44.4  \n",
       "\n",
       "[5 rows x 23 columns]"
      ]
     },
     "execution_count": 4,
     "metadata": {},
     "output_type": "execute_result"
    }
   ],
   "source": [
    "df.head()     "
   ]
  },
  {
   "cell_type": "markdown",
   "metadata": {},
   "source": [
    "##### Summary statistics "
   ]
  },
  {
   "cell_type": "code",
   "execution_count": 5,
   "metadata": {},
   "outputs": [
    {
     "data": {
      "text/html": [
       "<div>\n",
       "<style scoped>\n",
       "    .dataframe tbody tr th:only-of-type {\n",
       "        vertical-align: middle;\n",
       "    }\n",
       "\n",
       "    .dataframe tbody tr th {\n",
       "        vertical-align: top;\n",
       "    }\n",
       "\n",
       "    .dataframe thead th {\n",
       "        text-align: right;\n",
       "    }\n",
       "</style>\n",
       "<table border=\"1\" class=\"dataframe\">\n",
       "  <thead>\n",
       "    <tr style=\"text-align: right;\">\n",
       "      <th></th>\n",
       "      <th>SaleDollarCnt</th>\n",
       "      <th>censusblockgroup</th>\n",
       "      <th>Usecode</th>\n",
       "      <th>BedroomCnt</th>\n",
       "      <th>BathroomCnt</th>\n",
       "      <th>FinishedSquareFeet</th>\n",
       "      <th>GarageSquareFeet</th>\n",
       "      <th>LotSizeSquareFeet</th>\n",
       "      <th>StoryCnt</th>\n",
       "      <th>BuiltYear</th>\n",
       "      <th>...</th>\n",
       "      <th>Latitude</th>\n",
       "      <th>Longitude</th>\n",
       "      <th>BGMedHomeValue</th>\n",
       "      <th>BGMedRent</th>\n",
       "      <th>BGMedYearBuilt</th>\n",
       "      <th>BGPctOwn</th>\n",
       "      <th>BGPctVacant</th>\n",
       "      <th>BGMedIncome</th>\n",
       "      <th>BGPctKids</th>\n",
       "      <th>BGMedAge</th>\n",
       "    </tr>\n",
       "  </thead>\n",
       "  <tbody>\n",
       "    <tr>\n",
       "      <th>count</th>\n",
       "      <td>1.158800e+04</td>\n",
       "      <td>1.158800e+04</td>\n",
       "      <td>11588.0</td>\n",
       "      <td>11588.000000</td>\n",
       "      <td>11588.000000</td>\n",
       "      <td>11588.000000</td>\n",
       "      <td>8747.000000</td>\n",
       "      <td>1.158800e+04</td>\n",
       "      <td>11588.000000</td>\n",
       "      <td>11588.000000</td>\n",
       "      <td>...</td>\n",
       "      <td>1.158800e+04</td>\n",
       "      <td>1.158800e+04</td>\n",
       "      <td>1.158200e+04</td>\n",
       "      <td>8957.000000</td>\n",
       "      <td>11341.000000</td>\n",
       "      <td>11588.000000</td>\n",
       "      <td>11588.000000</td>\n",
       "      <td>11588.000000</td>\n",
       "      <td>11588.000000</td>\n",
       "      <td>11588.000000</td>\n",
       "    </tr>\n",
       "    <tr>\n",
       "      <th>mean</th>\n",
       "      <td>6.137157e+05</td>\n",
       "      <td>5.300000e+11</td>\n",
       "      <td>9.0</td>\n",
       "      <td>3.451800</td>\n",
       "      <td>2.327628</td>\n",
       "      <td>2199.899249</td>\n",
       "      <td>490.981022</td>\n",
       "      <td>1.601437e+04</td>\n",
       "      <td>1.528571</td>\n",
       "      <td>1975.423097</td>\n",
       "      <td>...</td>\n",
       "      <td>4.755070e+07</td>\n",
       "      <td>-1.221995e+08</td>\n",
       "      <td>4.337194e+05</td>\n",
       "      <td>1235.541699</td>\n",
       "      <td>1973.356406</td>\n",
       "      <td>0.747764</td>\n",
       "      <td>0.050873</td>\n",
       "      <td>94859.222817</td>\n",
       "      <td>0.360058</td>\n",
       "      <td>39.772886</td>\n",
       "    </tr>\n",
       "    <tr>\n",
       "      <th>std</th>\n",
       "      <td>4.577593e+05</td>\n",
       "      <td>0.000000e+00</td>\n",
       "      <td>0.0</td>\n",
       "      <td>0.865682</td>\n",
       "      <td>0.872601</td>\n",
       "      <td>936.877939</td>\n",
       "      <td>220.434500</td>\n",
       "      <td>4.324446e+04</td>\n",
       "      <td>0.521864</td>\n",
       "      <td>28.053849</td>\n",
       "      <td>...</td>\n",
       "      <td>1.424218e+05</td>\n",
       "      <td>1.417068e+05</td>\n",
       "      <td>1.781283e+05</td>\n",
       "      <td>394.371247</td>\n",
       "      <td>17.786514</td>\n",
       "      <td>0.196277</td>\n",
       "      <td>0.058676</td>\n",
       "      <td>36285.661949</td>\n",
       "      <td>0.140494</td>\n",
       "      <td>6.726432</td>\n",
       "    </tr>\n",
       "    <tr>\n",
       "      <th>min</th>\n",
       "      <td>2.000000e+04</td>\n",
       "      <td>5.300000e+11</td>\n",
       "      <td>9.0</td>\n",
       "      <td>1.000000</td>\n",
       "      <td>0.750000</td>\n",
       "      <td>270.000000</td>\n",
       "      <td>10.000000</td>\n",
       "      <td>1.034000e+03</td>\n",
       "      <td>1.000000</td>\n",
       "      <td>1900.000000</td>\n",
       "      <td>...</td>\n",
       "      <td>4.716120e+07</td>\n",
       "      <td>-1.225150e+08</td>\n",
       "      <td>1.480000e+04</td>\n",
       "      <td>185.000000</td>\n",
       "      <td>1939.000000</td>\n",
       "      <td>0.000000</td>\n",
       "      <td>0.000000</td>\n",
       "      <td>17500.000000</td>\n",
       "      <td>0.000000</td>\n",
       "      <td>18.200000</td>\n",
       "    </tr>\n",
       "    <tr>\n",
       "      <th>25%</th>\n",
       "      <td>3.550000e+05</td>\n",
       "      <td>5.300000e+11</td>\n",
       "      <td>9.0</td>\n",
       "      <td>3.000000</td>\n",
       "      <td>1.750000</td>\n",
       "      <td>1530.000000</td>\n",
       "      <td>380.000000</td>\n",
       "      <td>5.683750e+03</td>\n",
       "      <td>1.000000</td>\n",
       "      <td>1957.000000</td>\n",
       "      <td>...</td>\n",
       "      <td>4.744830e+07</td>\n",
       "      <td>-1.223147e+08</td>\n",
       "      <td>3.020000e+05</td>\n",
       "      <td>933.000000</td>\n",
       "      <td>1960.000000</td>\n",
       "      <td>0.618700</td>\n",
       "      <td>0.000000</td>\n",
       "      <td>69167.000000</td>\n",
       "      <td>0.260700</td>\n",
       "      <td>35.000000</td>\n",
       "    </tr>\n",
       "    <tr>\n",
       "      <th>50%</th>\n",
       "      <td>5.050000e+05</td>\n",
       "      <td>5.300000e+11</td>\n",
       "      <td>9.0</td>\n",
       "      <td>3.000000</td>\n",
       "      <td>2.500000</td>\n",
       "      <td>2060.000000</td>\n",
       "      <td>476.000000</td>\n",
       "      <td>7.886500e+03</td>\n",
       "      <td>2.000000</td>\n",
       "      <td>1979.000000</td>\n",
       "      <td>...</td>\n",
       "      <td>4.756348e+07</td>\n",
       "      <td>-1.222056e+08</td>\n",
       "      <td>3.969000e+05</td>\n",
       "      <td>1173.000000</td>\n",
       "      <td>1975.000000</td>\n",
       "      <td>0.802200</td>\n",
       "      <td>0.038900</td>\n",
       "      <td>90455.000000</td>\n",
       "      <td>0.352600</td>\n",
       "      <td>39.400000</td>\n",
       "    </tr>\n",
       "    <tr>\n",
       "      <th>75%</th>\n",
       "      <td>7.150000e+05</td>\n",
       "      <td>5.300000e+11</td>\n",
       "      <td>9.0</td>\n",
       "      <td>4.000000</td>\n",
       "      <td>3.000000</td>\n",
       "      <td>2700.000000</td>\n",
       "      <td>600.000000</td>\n",
       "      <td>1.111100e+04</td>\n",
       "      <td>2.000000</td>\n",
       "      <td>1999.000000</td>\n",
       "      <td>...</td>\n",
       "      <td>4.767496e+07</td>\n",
       "      <td>-1.221112e+08</td>\n",
       "      <td>5.256000e+05</td>\n",
       "      <td>1508.000000</td>\n",
       "      <td>1987.000000</td>\n",
       "      <td>0.903800</td>\n",
       "      <td>0.080800</td>\n",
       "      <td>114306.000000</td>\n",
       "      <td>0.444200</td>\n",
       "      <td>43.800000</td>\n",
       "    </tr>\n",
       "    <tr>\n",
       "      <th>max</th>\n",
       "      <td>7.880000e+06</td>\n",
       "      <td>5.300000e+11</td>\n",
       "      <td>9.0</td>\n",
       "      <td>9.000000</td>\n",
       "      <td>9.500000</td>\n",
       "      <td>12130.000000</td>\n",
       "      <td>7504.000000</td>\n",
       "      <td>1.157824e+06</td>\n",
       "      <td>3.000000</td>\n",
       "      <td>2015.000000</td>\n",
       "      <td>...</td>\n",
       "      <td>4.785848e+07</td>\n",
       "      <td>-1.211670e+08</td>\n",
       "      <td>1.000001e+06</td>\n",
       "      <td>2001.000000</td>\n",
       "      <td>2005.000000</td>\n",
       "      <td>1.000000</td>\n",
       "      <td>0.638400</td>\n",
       "      <td>250001.000000</td>\n",
       "      <td>0.934100</td>\n",
       "      <td>70.200000</td>\n",
       "    </tr>\n",
       "  </tbody>\n",
       "</table>\n",
       "<p>8 rows × 21 columns</p>\n",
       "</div>"
      ],
      "text/plain": [
       "       SaleDollarCnt  censusblockgroup  Usecode    BedroomCnt   BathroomCnt  \\\n",
       "count   1.158800e+04      1.158800e+04  11588.0  11588.000000  11588.000000   \n",
       "mean    6.137157e+05      5.300000e+11      9.0      3.451800      2.327628   \n",
       "std     4.577593e+05      0.000000e+00      0.0      0.865682      0.872601   \n",
       "min     2.000000e+04      5.300000e+11      9.0      1.000000      0.750000   \n",
       "25%     3.550000e+05      5.300000e+11      9.0      3.000000      1.750000   \n",
       "50%     5.050000e+05      5.300000e+11      9.0      3.000000      2.500000   \n",
       "75%     7.150000e+05      5.300000e+11      9.0      4.000000      3.000000   \n",
       "max     7.880000e+06      5.300000e+11      9.0      9.000000      9.500000   \n",
       "\n",
       "       FinishedSquareFeet  GarageSquareFeet  LotSizeSquareFeet      StoryCnt  \\\n",
       "count        11588.000000       8747.000000       1.158800e+04  11588.000000   \n",
       "mean          2199.899249        490.981022       1.601437e+04      1.528571   \n",
       "std            936.877939        220.434500       4.324446e+04      0.521864   \n",
       "min            270.000000         10.000000       1.034000e+03      1.000000   \n",
       "25%           1530.000000        380.000000       5.683750e+03      1.000000   \n",
       "50%           2060.000000        476.000000       7.886500e+03      2.000000   \n",
       "75%           2700.000000        600.000000       1.111100e+04      2.000000   \n",
       "max          12130.000000       7504.000000       1.157824e+06      3.000000   \n",
       "\n",
       "          BuiltYear  ...      Latitude     Longitude  BGMedHomeValue  \\\n",
       "count  11588.000000  ...  1.158800e+04  1.158800e+04    1.158200e+04   \n",
       "mean    1975.423097  ...  4.755070e+07 -1.221995e+08    4.337194e+05   \n",
       "std       28.053849  ...  1.424218e+05  1.417068e+05    1.781283e+05   \n",
       "min     1900.000000  ...  4.716120e+07 -1.225150e+08    1.480000e+04   \n",
       "25%     1957.000000  ...  4.744830e+07 -1.223147e+08    3.020000e+05   \n",
       "50%     1979.000000  ...  4.756348e+07 -1.222056e+08    3.969000e+05   \n",
       "75%     1999.000000  ...  4.767496e+07 -1.221112e+08    5.256000e+05   \n",
       "max     2015.000000  ...  4.785848e+07 -1.211670e+08    1.000001e+06   \n",
       "\n",
       "         BGMedRent  BGMedYearBuilt      BGPctOwn   BGPctVacant    BGMedIncome  \\\n",
       "count  8957.000000    11341.000000  11588.000000  11588.000000   11588.000000   \n",
       "mean   1235.541699     1973.356406      0.747764      0.050873   94859.222817   \n",
       "std     394.371247       17.786514      0.196277      0.058676   36285.661949   \n",
       "min     185.000000     1939.000000      0.000000      0.000000   17500.000000   \n",
       "25%     933.000000     1960.000000      0.618700      0.000000   69167.000000   \n",
       "50%    1173.000000     1975.000000      0.802200      0.038900   90455.000000   \n",
       "75%    1508.000000     1987.000000      0.903800      0.080800  114306.000000   \n",
       "max    2001.000000     2005.000000      1.000000      0.638400  250001.000000   \n",
       "\n",
       "          BGPctKids      BGMedAge  \n",
       "count  11588.000000  11588.000000  \n",
       "mean       0.360058     39.772886  \n",
       "std        0.140494      6.726432  \n",
       "min        0.000000     18.200000  \n",
       "25%        0.260700     35.000000  \n",
       "50%        0.352600     39.400000  \n",
       "75%        0.444200     43.800000  \n",
       "max        0.934100     70.200000  \n",
       "\n",
       "[8 rows x 21 columns]"
      ]
     },
     "execution_count": 5,
     "metadata": {},
     "output_type": "execute_result"
    }
   ],
   "source": [
    "df.describe()"
   ]
  },
  {
   "cell_type": "markdown",
   "metadata": {},
   "source": [
    "##### There seems to be a house with 9.5 bathrooms. Seems like an outlier but it is actually a big house"
   ]
  },
  {
   "cell_type": "code",
   "execution_count": 6,
   "metadata": {},
   "outputs": [
    {
     "data": {
      "text/plain": [
       "ViewType            8956\n",
       "GarageSquareFeet    2841\n",
       "BGMedRent           2631\n",
       "BGMedYearBuilt       247\n",
       "BGMedHomeValue         6\n",
       "dtype: int64"
      ]
     },
     "execution_count": 6,
     "metadata": {},
     "output_type": "execute_result"
    }
   ],
   "source": [
    "df.isnull().sum().sort_values(ascending = False)[df.isnull().sum().sort_values(ascending = False) != 0]  #Training data"
   ]
  },
  {
   "cell_type": "code",
   "execution_count": 7,
   "metadata": {},
   "outputs": [
    {
     "data": {
      "text/plain": [
       "SaleDollarCnt       4402\n",
       "ViewType            3404\n",
       "GarageSquareFeet    1138\n",
       "BGMedRent            963\n",
       "BGMedYearBuilt        62\n",
       "BGMedHomeValue         7\n",
       "dtype: int64"
      ]
     },
     "execution_count": 7,
     "metadata": {},
     "output_type": "execute_result"
    }
   ],
   "source": [
    "df_test.isnull().sum().sort_values(ascending = False)[df_test.isnull().sum().sort_values(ascending = False) != 0]  #Testing Data"
   ]
  },
  {
   "cell_type": "markdown",
   "metadata": {},
   "source": [
    "------------------------------------------------------------------------------------------------------------------------------"
   ]
  },
  {
   "cell_type": "markdown",
   "metadata": {},
   "source": [
    "## Missing values\n",
    "Fill the missing values in the datasets\n",
    "\n",
    "- ViewType: Missing data is simply the absence of a view. Hence, replaced with 0\n",
    "- GarageSquareFeet: This is also technically not missing. It just means garage is absent. Replace with 0\n",
    "- Rest of the numerical data is replaced by the mean of that column\n",
    "- SaleDollarCnt in testing set will be dropped anyways since that is our target variable"
   ]
  },
  {
   "cell_type": "code",
   "execution_count": 8,
   "metadata": {},
   "outputs": [
    {
     "data": {
      "text/plain": [
       "Series([], dtype: int64)"
      ]
     },
     "execution_count": 8,
     "metadata": {},
     "output_type": "execute_result"
    }
   ],
   "source": [
    "# Training Dataset\n",
    "df['GarageSquareFeet'] = df['GarageSquareFeet'].fillna(0)      # Fill Nans with 0 (No Garage)\n",
    "df['ViewType'] = df['ViewType'].fillna(0)                      # Fill Nans with 0 (No View)\n",
    "df['BGMedHomeValue'] = df['BGMedHomeValue'].transform( lambda x: x.fillna(x.mean()))     #Replace Nans with mean\n",
    "df['BGMedYearBuilt'] = df['BGMedYearBuilt'].transform( lambda x: x.fillna(x.mean()))     #Replace Nans with mean\n",
    "df['BGMedRent'] = df['BGMedRent'].transform( lambda x: x.fillna(x.mean()))     #Replace Nans with mean\n",
    "df.isnull().sum().sort_values(ascending = False)[df.isnull().sum().sort_values(ascending = False) != 0]"
   ]
  },
  {
   "cell_type": "code",
   "execution_count": 9,
   "metadata": {},
   "outputs": [
    {
     "data": {
      "text/plain": [
       "SaleDollarCnt    4402\n",
       "dtype: int64"
      ]
     },
     "execution_count": 9,
     "metadata": {},
     "output_type": "execute_result"
    }
   ],
   "source": [
    "#Testing Dataset\n",
    "\n",
    "df_test['GarageSquareFeet'] = df_test['GarageSquareFeet'].fillna(0)      # Fill Nans with 0 (No Garage)\n",
    "df_test['ViewType'] = df_test['ViewType'].fillna(0)                      # Fill Nans with 0 (No View)\n",
    "df_test['BGMedHomeValue'] = df_test['BGMedHomeValue'].transform( lambda x: x.fillna(x.mean()))     #Replace Nans with mean\n",
    "df_test['BGMedYearBuilt'] = df_test['BGMedYearBuilt'].transform( lambda x: x.fillna(x.mean()))     #Replace Nans with mean\n",
    "df_test['BGMedRent'] = df_test['BGMedRent'].transform( lambda x: x.fillna(x.mean()))     #Replace Nans with mean\n",
    "df_test.isnull().sum().sort_values(ascending = False)[df_test.isnull().sum().sort_values(ascending = False) != 0]"
   ]
  },
  {
   "cell_type": "markdown",
   "metadata": {},
   "source": [
    "------------------------------------------------------------------------------------------------------------------------------"
   ]
  },
  {
   "cell_type": "markdown",
   "metadata": {},
   "source": [
    "## Feature Engineering\n",
    "\n",
    "- Proportion of Finished Square Feet\n",
    "- BGMedYearBuilt \n",
    "- YearBuilt\n",
    "- Month\n",
    "- ViewType"
   ]
  },
  {
   "cell_type": "code",
   "execution_count": 10,
   "metadata": {},
   "outputs": [],
   "source": [
    "#Feature Engineering Training Dataset\n",
    "df['month'] = pd.DatetimeIndex(df.loc[:,'TransDate']).month #Create month column\n",
    "df['BuiltYear'] = 2015 - df['BuiltYear']\n",
    "df['BGMedYearBuilt'] = 2015 - df['BGMedYearBuilt']\n",
    "df['Proportion'] = df['FinishedSquareFeet']/df['LotSizeSquareFeet']"
   ]
  },
  {
   "cell_type": "code",
   "execution_count": 11,
   "metadata": {},
   "outputs": [],
   "source": [
    "#Feature Engineering testing Dataset\n",
    "df_test['month'] = pd.DatetimeIndex(df_test.loc[:,'TransDate']).month #Create month column\n",
    "df_test['BuiltYear'] = 2015 - df_test['BuiltYear']\n",
    "df_test['BGMedYearBuilt'] = 2015 - df_test['BGMedYearBuilt']\n",
    "df_test['Proportion'] = df_test['FinishedSquareFeet']/df_test['LotSizeSquareFeet']"
   ]
  },
  {
   "cell_type": "code",
   "execution_count": 12,
   "metadata": {},
   "outputs": [
    {
     "data": {
      "text/html": [
       "<div>\n",
       "<style scoped>\n",
       "    .dataframe tbody tr th:only-of-type {\n",
       "        vertical-align: middle;\n",
       "    }\n",
       "\n",
       "    .dataframe tbody tr th {\n",
       "        vertical-align: top;\n",
       "    }\n",
       "\n",
       "    .dataframe thead th {\n",
       "        text-align: right;\n",
       "    }\n",
       "</style>\n",
       "<table border=\"1\" class=\"dataframe\">\n",
       "  <thead>\n",
       "    <tr style=\"text-align: right;\">\n",
       "      <th></th>\n",
       "      <th>SaleDollarCnt</th>\n",
       "      <th>TransDate</th>\n",
       "      <th>censusblockgroup</th>\n",
       "      <th>ZoneCodeCounty</th>\n",
       "      <th>Usecode</th>\n",
       "      <th>BedroomCnt</th>\n",
       "      <th>BathroomCnt</th>\n",
       "      <th>FinishedSquareFeet</th>\n",
       "      <th>GarageSquareFeet</th>\n",
       "      <th>LotSizeSquareFeet</th>\n",
       "      <th>...</th>\n",
       "      <th>BGMedHomeValue</th>\n",
       "      <th>BGMedRent</th>\n",
       "      <th>BGMedYearBuilt</th>\n",
       "      <th>BGPctOwn</th>\n",
       "      <th>BGPctVacant</th>\n",
       "      <th>BGMedIncome</th>\n",
       "      <th>BGPctKids</th>\n",
       "      <th>BGMedAge</th>\n",
       "      <th>month</th>\n",
       "      <th>Proportion</th>\n",
       "    </tr>\n",
       "    <tr>\n",
       "      <th>PropertyID</th>\n",
       "      <th></th>\n",
       "      <th></th>\n",
       "      <th></th>\n",
       "      <th></th>\n",
       "      <th></th>\n",
       "      <th></th>\n",
       "      <th></th>\n",
       "      <th></th>\n",
       "      <th></th>\n",
       "      <th></th>\n",
       "      <th></th>\n",
       "      <th></th>\n",
       "      <th></th>\n",
       "      <th></th>\n",
       "      <th></th>\n",
       "      <th></th>\n",
       "      <th></th>\n",
       "      <th></th>\n",
       "      <th></th>\n",
       "      <th></th>\n",
       "      <th></th>\n",
       "    </tr>\n",
       "  </thead>\n",
       "  <tbody>\n",
       "    <tr>\n",
       "      <th>48735321</th>\n",
       "      <td>NaN</td>\n",
       "      <td>10/31/2015</td>\n",
       "      <td>5.300000e+11</td>\n",
       "      <td>SF 9600</td>\n",
       "      <td>9</td>\n",
       "      <td>5.0</td>\n",
       "      <td>4.000000</td>\n",
       "      <td>5540</td>\n",
       "      <td>0.0</td>\n",
       "      <td>25338</td>\n",
       "      <td>...</td>\n",
       "      <td>527700.0</td>\n",
       "      <td>1750.0</td>\n",
       "      <td>59.0</td>\n",
       "      <td>0.9134</td>\n",
       "      <td>0.1061</td>\n",
       "      <td>113450</td>\n",
       "      <td>0.2524</td>\n",
       "      <td>49.6</td>\n",
       "      <td>10</td>\n",
       "      <td>0.218644</td>\n",
       "    </tr>\n",
       "    <tr>\n",
       "      <th>48735471</th>\n",
       "      <td>NaN</td>\n",
       "      <td>11/6/2015</td>\n",
       "      <td>5.300000e+11</td>\n",
       "      <td>SF 9600</td>\n",
       "      <td>9</td>\n",
       "      <td>5.0</td>\n",
       "      <td>3.000000</td>\n",
       "      <td>2470</td>\n",
       "      <td>510.0</td>\n",
       "      <td>26006</td>\n",
       "      <td>...</td>\n",
       "      <td>527700.0</td>\n",
       "      <td>1750.0</td>\n",
       "      <td>59.0</td>\n",
       "      <td>0.9134</td>\n",
       "      <td>0.1061</td>\n",
       "      <td>113450</td>\n",
       "      <td>0.2524</td>\n",
       "      <td>49.6</td>\n",
       "      <td>11</td>\n",
       "      <td>0.094978</td>\n",
       "    </tr>\n",
       "    <tr>\n",
       "      <th>49128764</th>\n",
       "      <td>NaN</td>\n",
       "      <td>10/17/2015</td>\n",
       "      <td>5.300000e+11</td>\n",
       "      <td>SF 7200</td>\n",
       "      <td>9</td>\n",
       "      <td>4.0</td>\n",
       "      <td>2.000000</td>\n",
       "      <td>1680</td>\n",
       "      <td>0.0</td>\n",
       "      <td>8743</td>\n",
       "      <td>...</td>\n",
       "      <td>527700.0</td>\n",
       "      <td>1750.0</td>\n",
       "      <td>59.0</td>\n",
       "      <td>0.9134</td>\n",
       "      <td>0.1061</td>\n",
       "      <td>113450</td>\n",
       "      <td>0.2524</td>\n",
       "      <td>49.6</td>\n",
       "      <td>10</td>\n",
       "      <td>0.192154</td>\n",
       "    </tr>\n",
       "    <tr>\n",
       "      <th>48897535</th>\n",
       "      <td>NaN</td>\n",
       "      <td>11/19/2015</td>\n",
       "      <td>5.300000e+11</td>\n",
       "      <td>SF 7200</td>\n",
       "      <td>9</td>\n",
       "      <td>2.0</td>\n",
       "      <td>1.000000</td>\n",
       "      <td>990</td>\n",
       "      <td>260.0</td>\n",
       "      <td>12219</td>\n",
       "      <td>...</td>\n",
       "      <td>527700.0</td>\n",
       "      <td>1750.0</td>\n",
       "      <td>59.0</td>\n",
       "      <td>0.9134</td>\n",
       "      <td>0.1061</td>\n",
       "      <td>113450</td>\n",
       "      <td>0.2524</td>\n",
       "      <td>49.6</td>\n",
       "      <td>11</td>\n",
       "      <td>0.081021</td>\n",
       "    </tr>\n",
       "    <tr>\n",
       "      <th>49083957</th>\n",
       "      <td>NaN</td>\n",
       "      <td>12/15/2015</td>\n",
       "      <td>5.300000e+11</td>\n",
       "      <td>SF 9600</td>\n",
       "      <td>9</td>\n",
       "      <td>4.0</td>\n",
       "      <td>3.000000</td>\n",
       "      <td>2960</td>\n",
       "      <td>550.0</td>\n",
       "      <td>23568</td>\n",
       "      <td>...</td>\n",
       "      <td>527700.0</td>\n",
       "      <td>1750.0</td>\n",
       "      <td>59.0</td>\n",
       "      <td>0.9134</td>\n",
       "      <td>0.1061</td>\n",
       "      <td>113450</td>\n",
       "      <td>0.2524</td>\n",
       "      <td>49.6</td>\n",
       "      <td>12</td>\n",
       "      <td>0.125594</td>\n",
       "    </tr>\n",
       "    <tr>\n",
       "      <th>...</th>\n",
       "      <td>...</td>\n",
       "      <td>...</td>\n",
       "      <td>...</td>\n",
       "      <td>...</td>\n",
       "      <td>...</td>\n",
       "      <td>...</td>\n",
       "      <td>...</td>\n",
       "      <td>...</td>\n",
       "      <td>...</td>\n",
       "      <td>...</td>\n",
       "      <td>...</td>\n",
       "      <td>...</td>\n",
       "      <td>...</td>\n",
       "      <td>...</td>\n",
       "      <td>...</td>\n",
       "      <td>...</td>\n",
       "      <td>...</td>\n",
       "      <td>...</td>\n",
       "      <td>...</td>\n",
       "      <td>...</td>\n",
       "      <td>...</td>\n",
       "    </tr>\n",
       "    <tr>\n",
       "      <th>49034257</th>\n",
       "      <td>NaN</td>\n",
       "      <td>12/16/2015</td>\n",
       "      <td>5.300000e+11</td>\n",
       "      <td>RA2.5</td>\n",
       "      <td>9</td>\n",
       "      <td>3.0</td>\n",
       "      <td>2.000000</td>\n",
       "      <td>1420</td>\n",
       "      <td>0.0</td>\n",
       "      <td>13590</td>\n",
       "      <td>...</td>\n",
       "      <td>180600.0</td>\n",
       "      <td>507.0</td>\n",
       "      <td>44.0</td>\n",
       "      <td>0.6477</td>\n",
       "      <td>0.6384</td>\n",
       "      <td>26979</td>\n",
       "      <td>0.1317</td>\n",
       "      <td>48.5</td>\n",
       "      <td>12</td>\n",
       "      <td>0.104489</td>\n",
       "    </tr>\n",
       "    <tr>\n",
       "      <th>49101515</th>\n",
       "      <td>NaN</td>\n",
       "      <td>12/8/2015</td>\n",
       "      <td>5.300000e+11</td>\n",
       "      <td>F</td>\n",
       "      <td>9</td>\n",
       "      <td>2.0</td>\n",
       "      <td>2.560000</td>\n",
       "      <td>730</td>\n",
       "      <td>0.0</td>\n",
       "      <td>11758</td>\n",
       "      <td>...</td>\n",
       "      <td>180600.0</td>\n",
       "      <td>507.0</td>\n",
       "      <td>44.0</td>\n",
       "      <td>0.6477</td>\n",
       "      <td>0.6384</td>\n",
       "      <td>26979</td>\n",
       "      <td>0.1317</td>\n",
       "      <td>48.5</td>\n",
       "      <td>12</td>\n",
       "      <td>0.062085</td>\n",
       "    </tr>\n",
       "    <tr>\n",
       "      <th>49092758</th>\n",
       "      <td>NaN</td>\n",
       "      <td>10/6/2015</td>\n",
       "      <td>5.300000e+11</td>\n",
       "      <td>RA2.5</td>\n",
       "      <td>9</td>\n",
       "      <td>2.0</td>\n",
       "      <td>1.000000</td>\n",
       "      <td>770</td>\n",
       "      <td>0.0</td>\n",
       "      <td>15141</td>\n",
       "      <td>...</td>\n",
       "      <td>180600.0</td>\n",
       "      <td>507.0</td>\n",
       "      <td>44.0</td>\n",
       "      <td>0.6477</td>\n",
       "      <td>0.6384</td>\n",
       "      <td>26979</td>\n",
       "      <td>0.1317</td>\n",
       "      <td>48.5</td>\n",
       "      <td>10</td>\n",
       "      <td>0.050855</td>\n",
       "    </tr>\n",
       "    <tr>\n",
       "      <th>49034232</th>\n",
       "      <td>NaN</td>\n",
       "      <td>11/21/2015</td>\n",
       "      <td>5.300000e+11</td>\n",
       "      <td>RA2.5</td>\n",
       "      <td>9</td>\n",
       "      <td>3.0</td>\n",
       "      <td>1.942308</td>\n",
       "      <td>2250</td>\n",
       "      <td>0.0</td>\n",
       "      <td>15600</td>\n",
       "      <td>...</td>\n",
       "      <td>180600.0</td>\n",
       "      <td>507.0</td>\n",
       "      <td>44.0</td>\n",
       "      <td>0.6477</td>\n",
       "      <td>0.6384</td>\n",
       "      <td>26979</td>\n",
       "      <td>0.1317</td>\n",
       "      <td>48.5</td>\n",
       "      <td>11</td>\n",
       "      <td>0.144231</td>\n",
       "    </tr>\n",
       "    <tr>\n",
       "      <th>49092730</th>\n",
       "      <td>NaN</td>\n",
       "      <td>10/31/2015</td>\n",
       "      <td>5.300000e+11</td>\n",
       "      <td>RA2.5</td>\n",
       "      <td>9</td>\n",
       "      <td>2.0</td>\n",
       "      <td>1.000000</td>\n",
       "      <td>960</td>\n",
       "      <td>0.0</td>\n",
       "      <td>10374</td>\n",
       "      <td>...</td>\n",
       "      <td>180600.0</td>\n",
       "      <td>507.0</td>\n",
       "      <td>44.0</td>\n",
       "      <td>0.6477</td>\n",
       "      <td>0.6384</td>\n",
       "      <td>26979</td>\n",
       "      <td>0.1317</td>\n",
       "      <td>48.5</td>\n",
       "      <td>10</td>\n",
       "      <td>0.092539</td>\n",
       "    </tr>\n",
       "  </tbody>\n",
       "</table>\n",
       "<p>4402 rows × 25 columns</p>\n",
       "</div>"
      ],
      "text/plain": [
       "            SaleDollarCnt   TransDate  censusblockgroup ZoneCodeCounty  \\\n",
       "PropertyID                                                               \n",
       "48735321              NaN  10/31/2015      5.300000e+11        SF 9600   \n",
       "48735471              NaN   11/6/2015      5.300000e+11        SF 9600   \n",
       "49128764              NaN  10/17/2015      5.300000e+11        SF 7200   \n",
       "48897535              NaN  11/19/2015      5.300000e+11        SF 7200   \n",
       "49083957              NaN  12/15/2015      5.300000e+11        SF 9600   \n",
       "...                   ...         ...               ...            ...   \n",
       "49034257              NaN  12/16/2015      5.300000e+11          RA2.5   \n",
       "49101515              NaN   12/8/2015      5.300000e+11              F   \n",
       "49092758              NaN   10/6/2015      5.300000e+11          RA2.5   \n",
       "49034232              NaN  11/21/2015      5.300000e+11          RA2.5   \n",
       "49092730              NaN  10/31/2015      5.300000e+11          RA2.5   \n",
       "\n",
       "            Usecode  BedroomCnt  BathroomCnt  FinishedSquareFeet  \\\n",
       "PropertyID                                                         \n",
       "48735321          9         5.0     4.000000                5540   \n",
       "48735471          9         5.0     3.000000                2470   \n",
       "49128764          9         4.0     2.000000                1680   \n",
       "48897535          9         2.0     1.000000                 990   \n",
       "49083957          9         4.0     3.000000                2960   \n",
       "...             ...         ...          ...                 ...   \n",
       "49034257          9         3.0     2.000000                1420   \n",
       "49101515          9         2.0     2.560000                 730   \n",
       "49092758          9         2.0     1.000000                 770   \n",
       "49034232          9         3.0     1.942308                2250   \n",
       "49092730          9         2.0     1.000000                 960   \n",
       "\n",
       "            GarageSquareFeet  LotSizeSquareFeet  ...  BGMedHomeValue  \\\n",
       "PropertyID                                       ...                   \n",
       "48735321                 0.0              25338  ...        527700.0   \n",
       "48735471               510.0              26006  ...        527700.0   \n",
       "49128764                 0.0               8743  ...        527700.0   \n",
       "48897535               260.0              12219  ...        527700.0   \n",
       "49083957               550.0              23568  ...        527700.0   \n",
       "...                      ...                ...  ...             ...   \n",
       "49034257                 0.0              13590  ...        180600.0   \n",
       "49101515                 0.0              11758  ...        180600.0   \n",
       "49092758                 0.0              15141  ...        180600.0   \n",
       "49034232                 0.0              15600  ...        180600.0   \n",
       "49092730                 0.0              10374  ...        180600.0   \n",
       "\n",
       "            BGMedRent  BGMedYearBuilt  BGPctOwn  BGPctVacant  BGMedIncome  \\\n",
       "PropertyID                                                                  \n",
       "48735321       1750.0            59.0    0.9134       0.1061       113450   \n",
       "48735471       1750.0            59.0    0.9134       0.1061       113450   \n",
       "49128764       1750.0            59.0    0.9134       0.1061       113450   \n",
       "48897535       1750.0            59.0    0.9134       0.1061       113450   \n",
       "49083957       1750.0            59.0    0.9134       0.1061       113450   \n",
       "...               ...             ...       ...          ...          ...   \n",
       "49034257        507.0            44.0    0.6477       0.6384        26979   \n",
       "49101515        507.0            44.0    0.6477       0.6384        26979   \n",
       "49092758        507.0            44.0    0.6477       0.6384        26979   \n",
       "49034232        507.0            44.0    0.6477       0.6384        26979   \n",
       "49092730        507.0            44.0    0.6477       0.6384        26979   \n",
       "\n",
       "            BGPctKids  BGMedAge  month  Proportion  \n",
       "PropertyID                                          \n",
       "48735321       0.2524      49.6     10    0.218644  \n",
       "48735471       0.2524      49.6     11    0.094978  \n",
       "49128764       0.2524      49.6     10    0.192154  \n",
       "48897535       0.2524      49.6     11    0.081021  \n",
       "49083957       0.2524      49.6     12    0.125594  \n",
       "...               ...       ...    ...         ...  \n",
       "49034257       0.1317      48.5     12    0.104489  \n",
       "49101515       0.1317      48.5     12    0.062085  \n",
       "49092758       0.1317      48.5     10    0.050855  \n",
       "49034232       0.1317      48.5     11    0.144231  \n",
       "49092730       0.1317      48.5     10    0.092539  \n",
       "\n",
       "[4402 rows x 25 columns]"
      ]
     },
     "execution_count": 12,
     "metadata": {},
     "output_type": "execute_result"
    }
   ],
   "source": [
    "df_test"
   ]
  },
  {
   "cell_type": "markdown",
   "metadata": {},
   "source": [
    "#### I used one-hot encoding for viewtype but realized it won't scale across datasets as not all ViewTypes will be present. Instead I went with the 0s for no view type and rest same. I also used a label encoder but did not find marked performance differences. Included below nonetheless"
   ]
  },
  {
   "cell_type": "code",
   "execution_count": 13,
   "metadata": {},
   "outputs": [
    {
     "data": {
      "text/plain": [
       "\"\\ndummies = pd.get_dummies(df.ViewType, prefix='ViewType',drop_first=True)\\nprint(dummies.shape)\\ndf = pd.concat([df, dummies], axis=1)\\ndf = df.drop(['ViewType'], axis=1)\\nprint(df.shape)\\n\\ndummies = pd.get_dummies(df_test.ViewType, prefix='ViewType',drop_first=True)\\nprint(dummies.shape)\\ndf_test = pd.concat([df_test, dummies], axis=1)\\ndf_test = df_test.drop(['ViewType'], axis=1)\\nprint(df.shape)\\n#dummies = pd.get_dummies(df.ZoneCodeCounty, prefix='ZoneCodeCounty',drop_first=True)      # Try to understand how we can use these\\n#df['ZoneCodeCounty'].value_counts() \\n#df = pd.concat([df, dummies], axis=1)\\n#df = df.drop(['ZoneCodeCounty'], axis=1\\n\\n\""
      ]
     },
     "execution_count": 13,
     "metadata": {},
     "output_type": "execute_result"
    }
   ],
   "source": [
    "# Creates one-hot encoding vectors for ViewType & ZoneCodeCounty (not used)\n",
    "\n",
    "'''\n",
    "dummies = pd.get_dummies(df.ViewType, prefix='ViewType',drop_first=True)\n",
    "print(dummies.shape)\n",
    "df = pd.concat([df, dummies], axis=1)\n",
    "df = df.drop(['ViewType'], axis=1)\n",
    "print(df.shape)\n",
    "\n",
    "dummies = pd.get_dummies(df_test.ViewType, prefix='ViewType',drop_first=True)\n",
    "print(dummies.shape)\n",
    "df_test = pd.concat([df_test, dummies], axis=1)\n",
    "df_test = df_test.drop(['ViewType'], axis=1)\n",
    "print(df.shape)\n",
    "#dummies = pd.get_dummies(df.ZoneCodeCounty, prefix='ZoneCodeCounty',drop_first=True)      # Try to understand how we can use these\n",
    "#df['ZoneCodeCounty'].value_counts() \n",
    "#df = pd.concat([df, dummies], axis=1)\n",
    "#df = df.drop(['ZoneCodeCounty'], axis=1\n",
    "\n",
    "'''"
   ]
  },
  {
   "cell_type": "code",
   "execution_count": 14,
   "metadata": {},
   "outputs": [],
   "source": [
    "# Drop Constant Columns & features that I determined through CV iterations to be not as useful\n",
    "df = df.drop(['Usecode'], axis =1)\n",
    "df = df.drop(['censusblockgroup'], axis =1)\n",
    "df = df.drop(['Longitude'], axis =1)\n",
    "df = df.drop(['TransDate'], axis =1)\n",
    "df = df.drop(['ZoneCodeCounty'], axis =1)   #used one-hot encoding but too many values. Will come back if time, to try something"
   ]
  },
  {
   "cell_type": "code",
   "execution_count": 15,
   "metadata": {},
   "outputs": [],
   "source": [
    "# Drop Constant Columns & features that I determined through CV iterations to be not as useful\n",
    "df_test = df_test.drop(['Usecode'], axis =1)\n",
    "df_test = df_test.drop(['censusblockgroup'], axis =1)\n",
    "df_test = df_test.drop(['Longitude'], axis =1)\n",
    "df_test = df_test.drop(['TransDate'], axis =1)\n",
    "df_test = df_test.drop(['ZoneCodeCounty'], axis =1)   #used one-hot encoding but too many values. Will come back if time, to try something"
   ]
  },
  {
   "cell_type": "markdown",
   "metadata": {},
   "source": [
    "-----------------------------------------------------------------------------------------------------------------------------"
   ]
  },
  {
   "cell_type": "markdown",
   "metadata": {},
   "source": [
    "# Correlation\n",
    "\n",
    "Correlation between SaleDollarCnt (target variable) and our features. Top positively correlated features are:\n",
    "\n",
    "- BGMedHomeValue\n",
    "- FinishedSquareFeet\n",
    "- BathroomCnt\n",
    "- BGMedIncome\n",
    "- BedroomCnt\n",
    "\n",
    "Slighly Correlated:\n",
    "\n",
    "- StoryCnt\n",
    "- ViewType\n",
    "- GarageSquareFeet\n",
    "- BGMedRent"
   ]
  },
  {
   "cell_type": "code",
   "execution_count": 16,
   "metadata": {},
   "outputs": [
    {
     "data": {
      "text/plain": [
       "BGMedHomeValue        0.681865\n",
       "FinishedSquareFeet    0.678446\n",
       "BathroomCnt           0.506672\n",
       "BGMedIncome           0.427578\n",
       "Latitude              0.317772\n",
       "BedroomCnt            0.310897\n",
       "StoryCnt              0.267300\n",
       "ViewType              0.249966\n",
       "GarageSquareFeet      0.245984\n",
       "BGMedRent             0.229267\n",
       "Proportion            0.214538\n",
       "BGMedAge              0.173956\n",
       "BGMedYearBuilt        0.121045\n",
       "BGPctOwn              0.094028\n",
       "LotSizeSquareFeet     0.067874\n",
       "BGPctVacant           0.010543\n",
       "month                -0.010586\n",
       "BGPctKids            -0.028768\n",
       "BuiltYear            -0.139941\n",
       "Name: SaleDollarCnt, dtype: float64"
      ]
     },
     "execution_count": 16,
     "metadata": {},
     "output_type": "execute_result"
    }
   ],
   "source": [
    "(df.corr())[\"SaleDollarCnt\"].sort_values(ascending = False)[1:]"
   ]
  },
  {
   "cell_type": "markdown",
   "metadata": {},
   "source": [
    "Let's take a look at a couple of scatterplots to confirm the linear relationship. As we can see, these plots confirm the correaltion values"
   ]
  },
  {
   "cell_type": "code",
   "execution_count": 17,
   "metadata": {},
   "outputs": [
    {
     "data": {
      "text/plain": [
       "<AxesSubplot:xlabel='BGMedIncome', ylabel='SaleDollarCnt'>"
      ]
     },
     "execution_count": 17,
     "metadata": {},
     "output_type": "execute_result"
    },
    {
     "data": {
      "image/png": "[encoded data removed]",
      "text/plain": [
       "<Figure size 576x396 with 1 Axes>"
      ]
     },
     "metadata": {},
     "output_type": "display_data"
    }
   ],
   "source": [
    "sns.scatterplot(x='BGMedIncome', y='SaleDollarCnt', data = df, color=\"g\")\n",
    "#sns.regplot(x=df.BGMedIncome, y=df.SaleDollarCnt);  # Creates Regression Line "
   ]
  },
  {
   "cell_type": "code",
   "execution_count": 18,
   "metadata": {},
   "outputs": [
    {
     "data": {
      "text/plain": [
       "<AxesSubplot:xlabel='FinishedSquareFeet', ylabel='SaleDollarCnt'>"
      ]
     },
     "execution_count": 18,
     "metadata": {},
     "output_type": "execute_result"
    },
    {
     "data": {
      "image/png": "[encoded data removed]",
      "text/plain": [
       "<Figure size 576x396 with 1 Axes>"
      ]
     },
     "metadata": {},
     "output_type": "display_data"
    }
   ],
   "source": [
    "sns.scatterplot(x='FinishedSquareFeet', y='SaleDollarCnt', data = df, color=\"g\")"
   ]
  },
  {
   "cell_type": "markdown",
   "metadata": {},
   "source": [
    "As we can see, these plots confirm the correaltion values. There are a few outliers in the FinishedSqaureFeet plot, however they seem to be following the trend, so will keep them for now"
   ]
  },
  {
   "cell_type": "markdown",
   "metadata": {},
   "source": [
    "------------------------------------------------------------------------------------------------------------------------------"
   ]
  },
  {
   "cell_type": "markdown",
   "metadata": {},
   "source": [
    "# Multicollinerity\n",
    "\n",
    "As discussed in the report, it is important to weed out features are correlated between themselves. This is one of the assumptions of linear regression. I identify obvious features in the heatmap but don't drop them as I will also be experimenting with other types of models (Trees)"
   ]
  },
  {
   "cell_type": "code",
   "execution_count": 19,
   "metadata": {},
   "outputs": [
    {
     "data": {
      "image/png": "[encoded data removed]",
      "text/plain": [
       "<Figure size 2160x1440 with 2 Axes>"
      ]
     },
     "metadata": {},
     "output_type": "display_data"
    }
   ],
   "source": [
    "#Example taken from Seaborn Library\n",
    "\n",
    "## Plot fig sizing. \n",
    "style.use('ggplot')\n",
    "sns.set_style('whitegrid')\n",
    "plt.subplots(figsize = (30,20))\n",
    "## Plotting heatmap. \n",
    "\n",
    "mask = np.zeros_like(df.corr(), dtype=np.bool)\n",
    "mask[np.triu_indices_from(mask)] = True\n",
    "\n",
    "\n",
    "sns.heatmap(df.corr(), \n",
    "            cmap=sns.diverging_palette(20, 220, n=200), \n",
    "            mask = mask, \n",
    "            annot=True, \n",
    "            center = 0, \n",
    "           );\n",
    "## Give title. \n",
    "plt.title(\"Heatmap of all the Features\", fontsize = 30);"
   ]
  },
  {
   "cell_type": "markdown",
   "metadata": {},
   "source": [
    "------------------------------------------------------------------------------------------------------------------------------"
   ]
  },
  {
   "cell_type": "markdown",
   "metadata": {},
   "source": [
    "# Fix Data Skewness\n",
    "\n",
    "I use Skewness & Kurtosis tests to determine if the data is normally distributed. This is another assumption of linear regresison where the data needs to mimic Guassian Distribution. \n",
    "\n",
    "I also plot the distribution of the features to visualize the skewness\n",
    "\n",
    "For XGBoost, we do not need to do this step. It does not depend on data being normally distributed"
   ]
  },
  {
   "cell_type": "code",
   "execution_count": 20,
   "metadata": {},
   "outputs": [
    {
     "name": "stdout",
     "output_type": "stream",
     "text": [
      "Skewness: \n",
      "BedroomCnt             0.453547\n",
      "BathroomCnt            0.555094\n",
      "FinishedSquareFeet     1.313188\n",
      "GarageSquareFeet       1.340486\n",
      "LotSizeSquareFeet     11.495144\n",
      "StoryCnt               0.173230\n",
      "BuiltYear              0.577537\n",
      "ViewType               2.811142\n",
      "Latitude              -0.374069\n",
      "BGMedHomeValue         1.132427\n",
      "BGMedRent              0.393191\n",
      "BGMedYearBuilt         0.259599\n",
      "BGPctOwn              -0.965295\n",
      "BGPctVacant            2.237270\n",
      "BGMedIncome            0.720548\n",
      "BGPctKids              0.406189\n",
      "BGMedAge               0.440433\n",
      "month                  0.130911\n",
      "Proportion             1.323711\n",
      "dtype: float64\n",
      "\n",
      "\n",
      "Kurtosis: \n",
      "BedroomCnt              2.295792\n",
      "BathroomCnt             1.737157\n",
      "FinishedSquareFeet      4.127092\n",
      "GarageSquareFeet       25.197351\n",
      "LotSizeSquareFeet     189.179146\n",
      "StoryCnt               -1.404408\n",
      "BuiltYear              -0.402322\n",
      "ViewType                9.260696\n",
      "Latitude               -0.845871\n",
      "BGMedHomeValue          1.267040\n",
      "BGMedRent               0.183020\n",
      "BGMedYearBuilt         -0.762433\n",
      "BGPctOwn                0.392445\n",
      "BGPctVacant            11.416350\n",
      "BGMedIncome             0.637882\n",
      "BGPctKids               0.169538\n",
      "BGMedAge                0.548118\n",
      "month                  -0.948617\n",
      "Proportion              3.120778\n",
      "dtype: float64\n"
     ]
    }
   ],
   "source": [
    "indexing = df_test.index\n",
    "y = df['SaleDollarCnt'].reset_index(drop=True)\n",
    "df = df.drop(['SaleDollarCnt'],axis=1)\n",
    "df_test = df_test.drop(['SaleDollarCnt'],axis=1)\n",
    "all_data = pd.concat((df, df_test)).reset_index(drop = True)         #Join all data to fix skewness once\n",
    "\n",
    "#skewness and kurtosis\n",
    "#print(\"Skewness: \" + str(df['SaleDollarCnt'].skew()))\n",
    "#print(\"Kurtosis: \" + str(df['SaleDollarCnt'].kurt()))\n",
    "\n",
    "print(\"Skewness: \" + \"\\n\" + str(all_data.skew()))\n",
    "print(\"\\n\")\n",
    "print(\"Kurtosis: \" + \"\\n\" + str(all_data.kurt()))"
   ]
  },
  {
   "cell_type": "markdown",
   "metadata": {},
   "source": [
    "The target variable is postively Skewed (Right tail) --> See Plot below"
   ]
  },
  {
   "cell_type": "code",
   "execution_count": 21,
   "metadata": {},
   "outputs": [
    {
     "name": "stderr",
     "output_type": "stream",
     "text": [
      "C:\\Users\\Usman Gohar\\AppData\\Local\\Programs\\Python\\Python38\\lib\\site-packages\\seaborn\\distributions.py:2551: FutureWarning: `distplot` is a deprecated function and will be removed in a future version. Please adapt your code to use either `displot` (a figure-level function with similar flexibility) or `histplot` (an axes-level function for histograms).\n",
      "  warnings.warn(msg, FutureWarning)\n"
     ]
    },
    {
     "data": {
      "image/png": "[encoded data removed]",
      "text/plain": [
       "<Figure size 576x396 with 1 Axes>"
      ]
     },
     "metadata": {},
     "output_type": "display_data"
    }
   ],
   "source": [
    "sns.distplot(y);"
   ]
  },
  {
   "cell_type": "markdown",
   "metadata": {},
   "source": [
    "To fix the positive skeness in the target variable, I use the log transformation"
   ]
  },
  {
   "cell_type": "code",
   "execution_count": 22,
   "metadata": {},
   "outputs": [],
   "source": [
    "#y = np.log1p(df['SaleDollarCnt'])\n",
    "\n",
    "y = np.log1p(y)"
   ]
  },
  {
   "cell_type": "markdown",
   "metadata": {},
   "source": [
    "Plot after transformation"
   ]
  },
  {
   "cell_type": "code",
   "execution_count": 23,
   "metadata": {},
   "outputs": [
    {
     "name": "stderr",
     "output_type": "stream",
     "text": [
      "C:\\Users\\Usman Gohar\\AppData\\Local\\Programs\\Python\\Python38\\lib\\site-packages\\seaborn\\distributions.py:2551: FutureWarning: `distplot` is a deprecated function and will be removed in a future version. Please adapt your code to use either `displot` (a figure-level function with similar flexibility) or `histplot` (an axes-level function for histograms).\n",
      "  warnings.warn(msg, FutureWarning)\n"
     ]
    },
    {
     "data": {
      "image/png": "[encoded data removed]",
      "text/plain": [
       "<Figure size 576x396 with 1 Axes>"
      ]
     },
     "metadata": {},
     "output_type": "display_data"
    }
   ],
   "source": [
    "sns.distplot(y);"
   ]
  },
  {
   "cell_type": "code",
   "execution_count": 24,
   "metadata": {},
   "outputs": [
    {
     "data": {
      "text/plain": [
       "LotSizeSquareFeet     11.494066\n",
       "ViewType               2.810879\n",
       "BGPctVacant            2.237060\n",
       "GarageSquareFeet       1.340360\n",
       "Proportion             1.323587\n",
       "FinishedSquareFeet     1.313065\n",
       "BGMedHomeValue         1.132321\n",
       "BGMedIncome            0.720481\n",
       "BuiltYear              0.577483\n",
       "BathroomCnt            0.555042\n",
       "BedroomCnt             0.453504\n",
       "BGMedAge               0.440392\n",
       "BGPctKids              0.406151\n",
       "BGMedRent              0.393154\n",
       "BGMedYearBuilt         0.259575\n",
       "StoryCnt               0.173214\n",
       "month                  0.130899\n",
       "Latitude              -0.374034\n",
       "BGPctOwn              -0.965205\n",
       "dtype: float64"
      ]
     },
     "execution_count": 24,
     "metadata": {},
     "output_type": "execute_result"
    }
   ],
   "source": [
    "#This calculates the skewness of the independant variables\n",
    "\n",
    "numeric_feats = all_data.dtypes[all_data.dtypes != \"object\"].index   ###################\n",
    "skewed_feats = all_data[numeric_feats].apply(lambda x: skew(x)).sort_values(ascending=False)\n",
    "skewed_feats"
   ]
  },
  {
   "cell_type": "code",
   "execution_count": 25,
   "metadata": {},
   "outputs": [],
   "source": [
    "# Function to apply box-cox transformation\n",
    "\n",
    "def skew_fix(df):\n",
    "    \n",
    "    features = df.dtypes[df.dtypes != \"object\"].index   # Pick only non-object data types\n",
    "    skewed_feats = df[features].apply(lambda x: skew(x)).sort_values(ascending=False)\n",
    "    high_skew = skewed_feats[abs(skewed_feats) > 0.5]       #Only highly skewed features\n",
    "    skewed_features = high_skew.index\n",
    "\n",
    "    for feat in skewed_features:\n",
    "        df[feat] = boxcox1p(df[feat], boxcox_normmax(df[feat] + 1))\n",
    "\n",
    "\n",
    "skew_fix(all_data)\n",
    "#skew_fix(df)\n",
    "#skew_fix(df_test)"
   ]
  },
  {
   "cell_type": "code",
   "execution_count": 26,
   "metadata": {},
   "outputs": [
    {
     "data": {
      "text/plain": [
       "ViewType              1.559926\n",
       "BGPctVacant           0.486058\n",
       "BedroomCnt            0.453504\n",
       "GarageSquareFeet      0.450086\n",
       "BGMedAge              0.440392\n",
       "BGPctKids             0.406151\n",
       "BGMedRent             0.393154\n",
       "BGMedYearBuilt        0.259575\n",
       "StoryCnt              0.173214\n",
       "month                 0.130899\n",
       "BathroomCnt           0.126193\n",
       "BGMedHomeValue        0.064113\n",
       "Proportion            0.034459\n",
       "BGMedIncome           0.000029\n",
       "FinishedSquareFeet   -0.000936\n",
       "BuiltYear            -0.044410\n",
       "LotSizeSquareFeet    -0.068686\n",
       "BGPctOwn             -0.138309\n",
       "Latitude             -0.374034\n",
       "dtype: float64"
      ]
     },
     "execution_count": 26,
     "metadata": {},
     "output_type": "execute_result"
    }
   ],
   "source": [
    "# Skewness after Transformation\n",
    "\n",
    "numeric_feats = all_data.dtypes[all_data.dtypes != \"object\"].index   ###################\n",
    "skewed_feats = all_data[numeric_feats].apply(lambda x: skew(x)).sort_values(ascending=False)\n",
    "skewed_feats"
   ]
  },
  {
   "cell_type": "markdown",
   "metadata": {},
   "source": [
    "------------------------------------------------------------------------------------------------------------------------------"
   ]
  },
  {
   "cell_type": "code",
   "execution_count": 27,
   "metadata": {},
   "outputs": [],
   "source": [
    "# Retrieve Original Sets\n",
    "\n",
    "X = all_data.iloc[:len(y), :]\n",
    "\n",
    "X_test = all_data.iloc[len(y):, :]\n",
    "\n",
    "#X_test"
   ]
  },
  {
   "cell_type": "code",
   "execution_count": 28,
   "metadata": {},
   "outputs": [
    {
     "data": {
      "text/html": [
       "<div>\n",
       "<style scoped>\n",
       "    .dataframe tbody tr th:only-of-type {\n",
       "        vertical-align: middle;\n",
       "    }\n",
       "\n",
       "    .dataframe tbody tr th {\n",
       "        vertical-align: top;\n",
       "    }\n",
       "\n",
       "    .dataframe thead th {\n",
       "        text-align: right;\n",
       "    }\n",
       "</style>\n",
       "<table border=\"1\" class=\"dataframe\">\n",
       "  <thead>\n",
       "    <tr style=\"text-align: right;\">\n",
       "      <th></th>\n",
       "      <th>BedroomCnt</th>\n",
       "      <th>BathroomCnt</th>\n",
       "      <th>FinishedSquareFeet</th>\n",
       "      <th>GarageSquareFeet</th>\n",
       "      <th>LotSizeSquareFeet</th>\n",
       "      <th>StoryCnt</th>\n",
       "      <th>BuiltYear</th>\n",
       "      <th>ViewType</th>\n",
       "      <th>Latitude</th>\n",
       "      <th>BGMedHomeValue</th>\n",
       "      <th>BGMedRent</th>\n",
       "      <th>BGMedYearBuilt</th>\n",
       "      <th>BGPctOwn</th>\n",
       "      <th>BGPctVacant</th>\n",
       "      <th>BGMedIncome</th>\n",
       "      <th>BGPctKids</th>\n",
       "      <th>BGMedAge</th>\n",
       "      <th>month</th>\n",
       "      <th>Proportion</th>\n",
       "    </tr>\n",
       "  </thead>\n",
       "  <tbody>\n",
       "    <tr>\n",
       "      <th>0</th>\n",
       "      <td>4.0</td>\n",
       "      <td>1.529270</td>\n",
       "      <td>12.478727</td>\n",
       "      <td>239.577268</td>\n",
       "      <td>1.869790</td>\n",
       "      <td>1.0</td>\n",
       "      <td>15.141112</td>\n",
       "      <td>0.000000</td>\n",
       "      <td>47321389</td>\n",
       "      <td>20.882275</td>\n",
       "      <td>844.0</td>\n",
       "      <td>40.0</td>\n",
       "      <td>2.584288</td>\n",
       "      <td>0.059441</td>\n",
       "      <td>131.217714</td>\n",
       "      <td>0.1924</td>\n",
       "      <td>48.6</td>\n",
       "      <td>5</td>\n",
       "      <td>0.176928</td>\n",
       "    </tr>\n",
       "    <tr>\n",
       "      <th>1</th>\n",
       "      <td>3.0</td>\n",
       "      <td>1.529270</td>\n",
       "      <td>12.819096</td>\n",
       "      <td>168.561922</td>\n",
       "      <td>1.874595</td>\n",
       "      <td>1.0</td>\n",
       "      <td>17.340212</td>\n",
       "      <td>12.909099</td>\n",
       "      <td>47482082</td>\n",
       "      <td>22.456394</td>\n",
       "      <td>925.0</td>\n",
       "      <td>46.0</td>\n",
       "      <td>1.864356</td>\n",
       "      <td>0.017891</td>\n",
       "      <td>143.010996</td>\n",
       "      <td>0.3718</td>\n",
       "      <td>42.6</td>\n",
       "      <td>8</td>\n",
       "      <td>0.121467</td>\n",
       "    </tr>\n",
       "    <tr>\n",
       "      <th>2</th>\n",
       "      <td>4.0</td>\n",
       "      <td>0.850742</td>\n",
       "      <td>12.795195</td>\n",
       "      <td>286.479493</td>\n",
       "      <td>1.868499</td>\n",
       "      <td>1.0</td>\n",
       "      <td>16.986794</td>\n",
       "      <td>0.000000</td>\n",
       "      <td>47561383</td>\n",
       "      <td>24.498726</td>\n",
       "      <td>733.0</td>\n",
       "      <td>69.0</td>\n",
       "      <td>2.290133</td>\n",
       "      <td>0.000000</td>\n",
       "      <td>145.692040</td>\n",
       "      <td>0.3207</td>\n",
       "      <td>40.7</td>\n",
       "      <td>8</td>\n",
       "      <td>0.210190</td>\n",
       "    </tr>\n",
       "    <tr>\n",
       "      <th>3</th>\n",
       "      <td>4.0</td>\n",
       "      <td>1.682848</td>\n",
       "      <td>13.250378</td>\n",
       "      <td>0.000000</td>\n",
       "      <td>1.875232</td>\n",
       "      <td>1.0</td>\n",
       "      <td>15.709624</td>\n",
       "      <td>12.909099</td>\n",
       "      <td>47387929</td>\n",
       "      <td>23.873945</td>\n",
       "      <td>900.0</td>\n",
       "      <td>38.0</td>\n",
       "      <td>1.669793</td>\n",
       "      <td>0.046753</td>\n",
       "      <td>132.736664</td>\n",
       "      <td>0.3359</td>\n",
       "      <td>40.0</td>\n",
       "      <td>7</td>\n",
       "      <td>0.127436</td>\n",
       "    </tr>\n",
       "    <tr>\n",
       "      <th>4</th>\n",
       "      <td>4.0</td>\n",
       "      <td>1.370111</td>\n",
       "      <td>12.227420</td>\n",
       "      <td>0.000000</td>\n",
       "      <td>1.870995</td>\n",
       "      <td>2.0</td>\n",
       "      <td>18.203716</td>\n",
       "      <td>12.827232</td>\n",
       "      <td>47477068</td>\n",
       "      <td>23.940332</td>\n",
       "      <td>802.0</td>\n",
       "      <td>43.0</td>\n",
       "      <td>1.033753</td>\n",
       "      <td>0.045293</td>\n",
       "      <td>153.436460</td>\n",
       "      <td>0.1633</td>\n",
       "      <td>44.4</td>\n",
       "      <td>6</td>\n",
       "      <td>0.149019</td>\n",
       "    </tr>\n",
       "    <tr>\n",
       "      <th>...</th>\n",
       "      <td>...</td>\n",
       "      <td>...</td>\n",
       "      <td>...</td>\n",
       "      <td>...</td>\n",
       "      <td>...</td>\n",
       "      <td>...</td>\n",
       "      <td>...</td>\n",
       "      <td>...</td>\n",
       "      <td>...</td>\n",
       "      <td>...</td>\n",
       "      <td>...</td>\n",
       "      <td>...</td>\n",
       "      <td>...</td>\n",
       "      <td>...</td>\n",
       "      <td>...</td>\n",
       "      <td>...</td>\n",
       "      <td>...</td>\n",
       "      <td>...</td>\n",
       "      <td>...</td>\n",
       "    </tr>\n",
       "    <tr>\n",
       "      <th>11583</th>\n",
       "      <td>3.0</td>\n",
       "      <td>1.529270</td>\n",
       "      <td>13.240063</td>\n",
       "      <td>159.382785</td>\n",
       "      <td>1.856706</td>\n",
       "      <td>2.0</td>\n",
       "      <td>0.000000</td>\n",
       "      <td>0.000000</td>\n",
       "      <td>47733216</td>\n",
       "      <td>24.522508</td>\n",
       "      <td>1313.0</td>\n",
       "      <td>26.0</td>\n",
       "      <td>3.764541</td>\n",
       "      <td>0.000000</td>\n",
       "      <td>179.949033</td>\n",
       "      <td>0.4426</td>\n",
       "      <td>34.1</td>\n",
       "      <td>9</td>\n",
       "      <td>0.350714</td>\n",
       "    </tr>\n",
       "    <tr>\n",
       "      <th>11584</th>\n",
       "      <td>4.0</td>\n",
       "      <td>1.682848</td>\n",
       "      <td>13.453465</td>\n",
       "      <td>299.056513</td>\n",
       "      <td>1.865485</td>\n",
       "      <td>2.0</td>\n",
       "      <td>0.000000</td>\n",
       "      <td>0.000000</td>\n",
       "      <td>47455220</td>\n",
       "      <td>22.672825</td>\n",
       "      <td>1069.0</td>\n",
       "      <td>54.0</td>\n",
       "      <td>3.131743</td>\n",
       "      <td>0.000000</td>\n",
       "      <td>155.350549</td>\n",
       "      <td>0.4724</td>\n",
       "      <td>38.1</td>\n",
       "      <td>9</td>\n",
       "      <td>0.282140</td>\n",
       "    </tr>\n",
       "    <tr>\n",
       "      <th>11585</th>\n",
       "      <td>3.0</td>\n",
       "      <td>1.975573</td>\n",
       "      <td>13.544524</td>\n",
       "      <td>303.230363</td>\n",
       "      <td>1.864700</td>\n",
       "      <td>2.0</td>\n",
       "      <td>0.000000</td>\n",
       "      <td>0.000000</td>\n",
       "      <td>47502826</td>\n",
       "      <td>24.250859</td>\n",
       "      <td>696.0</td>\n",
       "      <td>43.0</td>\n",
       "      <td>3.590650</td>\n",
       "      <td>0.000000</td>\n",
       "      <td>185.302524</td>\n",
       "      <td>0.3475</td>\n",
       "      <td>34.4</td>\n",
       "      <td>9</td>\n",
       "      <td>0.295475</td>\n",
       "    </tr>\n",
       "    <tr>\n",
       "      <th>11586</th>\n",
       "      <td>4.0</td>\n",
       "      <td>1.975573</td>\n",
       "      <td>13.535164</td>\n",
       "      <td>256.785650</td>\n",
       "      <td>1.869447</td>\n",
       "      <td>2.0</td>\n",
       "      <td>0.000000</td>\n",
       "      <td>0.000000</td>\n",
       "      <td>47707734</td>\n",
       "      <td>25.012398</td>\n",
       "      <td>908.0</td>\n",
       "      <td>62.0</td>\n",
       "      <td>2.154334</td>\n",
       "      <td>0.000000</td>\n",
       "      <td>168.749869</td>\n",
       "      <td>0.2121</td>\n",
       "      <td>38.6</td>\n",
       "      <td>9</td>\n",
       "      <td>0.233823</td>\n",
       "    </tr>\n",
       "    <tr>\n",
       "      <th>11587</th>\n",
       "      <td>3.0</td>\n",
       "      <td>1.975573</td>\n",
       "      <td>13.478397</td>\n",
       "      <td>315.698748</td>\n",
       "      <td>1.864700</td>\n",
       "      <td>2.0</td>\n",
       "      <td>0.000000</td>\n",
       "      <td>0.000000</td>\n",
       "      <td>47502827</td>\n",
       "      <td>24.250859</td>\n",
       "      <td>696.0</td>\n",
       "      <td>43.0</td>\n",
       "      <td>3.590650</td>\n",
       "      <td>0.000000</td>\n",
       "      <td>185.302524</td>\n",
       "      <td>0.3475</td>\n",
       "      <td>34.4</td>\n",
       "      <td>9</td>\n",
       "      <td>0.292311</td>\n",
       "    </tr>\n",
       "  </tbody>\n",
       "</table>\n",
       "<p>11588 rows × 19 columns</p>\n",
       "</div>"
      ],
      "text/plain": [
       "       BedroomCnt  BathroomCnt  FinishedSquareFeet  GarageSquareFeet  \\\n",
       "0             4.0     1.529270           12.478727        239.577268   \n",
       "1             3.0     1.529270           12.819096        168.561922   \n",
       "2             4.0     0.850742           12.795195        286.479493   \n",
       "3             4.0     1.682848           13.250378          0.000000   \n",
       "4             4.0     1.370111           12.227420          0.000000   \n",
       "...           ...          ...                 ...               ...   \n",
       "11583         3.0     1.529270           13.240063        159.382785   \n",
       "11584         4.0     1.682848           13.453465        299.056513   \n",
       "11585         3.0     1.975573           13.544524        303.230363   \n",
       "11586         4.0     1.975573           13.535164        256.785650   \n",
       "11587         3.0     1.975573           13.478397        315.698748   \n",
       "\n",
       "       LotSizeSquareFeet  StoryCnt  BuiltYear   ViewType  Latitude  \\\n",
       "0               1.869790       1.0  15.141112   0.000000  47321389   \n",
       "1               1.874595       1.0  17.340212  12.909099  47482082   \n",
       "2               1.868499       1.0  16.986794   0.000000  47561383   \n",
       "3               1.875232       1.0  15.709624  12.909099  47387929   \n",
       "4               1.870995       2.0  18.203716  12.827232  47477068   \n",
       "...                  ...       ...        ...        ...       ...   \n",
       "11583           1.856706       2.0   0.000000   0.000000  47733216   \n",
       "11584           1.865485       2.0   0.000000   0.000000  47455220   \n",
       "11585           1.864700       2.0   0.000000   0.000000  47502826   \n",
       "11586           1.869447       2.0   0.000000   0.000000  47707734   \n",
       "11587           1.864700       2.0   0.000000   0.000000  47502827   \n",
       "\n",
       "       BGMedHomeValue  BGMedRent  BGMedYearBuilt  BGPctOwn  BGPctVacant  \\\n",
       "0           20.882275      844.0            40.0  2.584288     0.059441   \n",
       "1           22.456394      925.0            46.0  1.864356     0.017891   \n",
       "2           24.498726      733.0            69.0  2.290133     0.000000   \n",
       "3           23.873945      900.0            38.0  1.669793     0.046753   \n",
       "4           23.940332      802.0            43.0  1.033753     0.045293   \n",
       "...               ...        ...             ...       ...          ...   \n",
       "11583       24.522508     1313.0            26.0  3.764541     0.000000   \n",
       "11584       22.672825     1069.0            54.0  3.131743     0.000000   \n",
       "11585       24.250859      696.0            43.0  3.590650     0.000000   \n",
       "11586       25.012398      908.0            62.0  2.154334     0.000000   \n",
       "11587       24.250859      696.0            43.0  3.590650     0.000000   \n",
       "\n",
       "       BGMedIncome  BGPctKids  BGMedAge  month  Proportion  \n",
       "0       131.217714     0.1924      48.6      5    0.176928  \n",
       "1       143.010996     0.3718      42.6      8    0.121467  \n",
       "2       145.692040     0.3207      40.7      8    0.210190  \n",
       "3       132.736664     0.3359      40.0      7    0.127436  \n",
       "4       153.436460     0.1633      44.4      6    0.149019  \n",
       "...            ...        ...       ...    ...         ...  \n",
       "11583   179.949033     0.4426      34.1      9    0.350714  \n",
       "11584   155.350549     0.4724      38.1      9    0.282140  \n",
       "11585   185.302524     0.3475      34.4      9    0.295475  \n",
       "11586   168.749869     0.2121      38.6      9    0.233823  \n",
       "11587   185.302524     0.3475      34.4      9    0.292311  \n",
       "\n",
       "[11588 rows x 19 columns]"
      ]
     },
     "execution_count": 28,
     "metadata": {},
     "output_type": "execute_result"
    }
   ],
   "source": [
    "X"
   ]
  },
  {
   "cell_type": "code",
   "execution_count": 29,
   "metadata": {},
   "outputs": [
    {
     "data": {
      "text/html": [
       "<div>\n",
       "<style scoped>\n",
       "    .dataframe tbody tr th:only-of-type {\n",
       "        vertical-align: middle;\n",
       "    }\n",
       "\n",
       "    .dataframe tbody tr th {\n",
       "        vertical-align: top;\n",
       "    }\n",
       "\n",
       "    .dataframe thead th {\n",
       "        text-align: right;\n",
       "    }\n",
       "</style>\n",
       "<table border=\"1\" class=\"dataframe\">\n",
       "  <thead>\n",
       "    <tr style=\"text-align: right;\">\n",
       "      <th></th>\n",
       "      <th>BedroomCnt</th>\n",
       "      <th>BathroomCnt</th>\n",
       "      <th>FinishedSquareFeet</th>\n",
       "      <th>GarageSquareFeet</th>\n",
       "      <th>LotSizeSquareFeet</th>\n",
       "      <th>StoryCnt</th>\n",
       "      <th>BuiltYear</th>\n",
       "      <th>ViewType</th>\n",
       "      <th>Latitude</th>\n",
       "      <th>BGMedHomeValue</th>\n",
       "      <th>BGMedRent</th>\n",
       "      <th>BGMedYearBuilt</th>\n",
       "      <th>BGPctOwn</th>\n",
       "      <th>BGPctVacant</th>\n",
       "      <th>BGMedIncome</th>\n",
       "      <th>BGPctKids</th>\n",
       "      <th>BGMedAge</th>\n",
       "      <th>month</th>\n",
       "      <th>Proportion</th>\n",
       "    </tr>\n",
       "  </thead>\n",
       "  <tbody>\n",
       "    <tr>\n",
       "      <th>11588</th>\n",
       "      <td>5.0</td>\n",
       "      <td>2.641809</td>\n",
       "      <td>15.385954</td>\n",
       "      <td>0.000000</td>\n",
       "      <td>1.877729</td>\n",
       "      <td>1.0</td>\n",
       "      <td>19.531715</td>\n",
       "      <td>12.827232</td>\n",
       "      <td>47725642</td>\n",
       "      <td>25.930272</td>\n",
       "      <td>1750.0</td>\n",
       "      <td>59.0</td>\n",
       "      <td>5.484994</td>\n",
       "      <td>0.073994</td>\n",
       "      <td>188.298812</td>\n",
       "      <td>0.2524</td>\n",
       "      <td>49.6</td>\n",
       "      <td>10</td>\n",
       "      <td>0.159286</td>\n",
       "    </tr>\n",
       "    <tr>\n",
       "      <th>11589</th>\n",
       "      <td>5.0</td>\n",
       "      <td>2.115642</td>\n",
       "      <td>13.156240</td>\n",
       "      <td>252.500906</td>\n",
       "      <td>1.877849</td>\n",
       "      <td>1.0</td>\n",
       "      <td>14.948505</td>\n",
       "      <td>12.827232</td>\n",
       "      <td>47726993</td>\n",
       "      <td>25.930272</td>\n",
       "      <td>1750.0</td>\n",
       "      <td>59.0</td>\n",
       "      <td>5.484994</td>\n",
       "      <td>0.073994</td>\n",
       "      <td>188.298812</td>\n",
       "      <td>0.2524</td>\n",
       "      <td>49.6</td>\n",
       "      <td>11</td>\n",
       "      <td>0.081992</td>\n",
       "    </tr>\n",
       "    <tr>\n",
       "      <th>11590</th>\n",
       "      <td>4.0</td>\n",
       "      <td>1.529270</td>\n",
       "      <td>12.168459</td>\n",
       "      <td>0.000000</td>\n",
       "      <td>1.871111</td>\n",
       "      <td>2.0</td>\n",
       "      <td>21.418257</td>\n",
       "      <td>0.000000</td>\n",
       "      <td>47731749</td>\n",
       "      <td>25.930272</td>\n",
       "      <td>1750.0</td>\n",
       "      <td>59.0</td>\n",
       "      <td>5.484994</td>\n",
       "      <td>0.073994</td>\n",
       "      <td>188.298812</td>\n",
       "      <td>0.2524</td>\n",
       "      <td>49.6</td>\n",
       "      <td>10</td>\n",
       "      <td>0.144907</td>\n",
       "    </tr>\n",
       "    <tr>\n",
       "      <th>11591</th>\n",
       "      <td>2.0</td>\n",
       "      <td>0.850742</td>\n",
       "      <td>10.887769</td>\n",
       "      <td>140.768147</td>\n",
       "      <td>1.873607</td>\n",
       "      <td>1.0</td>\n",
       "      <td>19.531715</td>\n",
       "      <td>0.000000</td>\n",
       "      <td>47728810</td>\n",
       "      <td>25.930272</td>\n",
       "      <td>1750.0</td>\n",
       "      <td>59.0</td>\n",
       "      <td>5.484994</td>\n",
       "      <td>0.073994</td>\n",
       "      <td>188.298812</td>\n",
       "      <td>0.2524</td>\n",
       "      <td>49.6</td>\n",
       "      <td>11</td>\n",
       "      <td>0.071401</td>\n",
       "    </tr>\n",
       "    <tr>\n",
       "      <th>11592</th>\n",
       "      <td>4.0</td>\n",
       "      <td>2.115642</td>\n",
       "      <td>13.636572</td>\n",
       "      <td>269.573953</td>\n",
       "      <td>1.877387</td>\n",
       "      <td>1.0</td>\n",
       "      <td>17.688949</td>\n",
       "      <td>13.151246</td>\n",
       "      <td>47731170</td>\n",
       "      <td>25.930272</td>\n",
       "      <td>1750.0</td>\n",
       "      <td>59.0</td>\n",
       "      <td>5.484994</td>\n",
       "      <td>0.073994</td>\n",
       "      <td>188.298812</td>\n",
       "      <td>0.2524</td>\n",
       "      <td>49.6</td>\n",
       "      <td>12</td>\n",
       "      <td>0.103743</td>\n",
       "    </tr>\n",
       "    <tr>\n",
       "      <th>...</th>\n",
       "      <td>...</td>\n",
       "      <td>...</td>\n",
       "      <td>...</td>\n",
       "      <td>...</td>\n",
       "      <td>...</td>\n",
       "      <td>...</td>\n",
       "      <td>...</td>\n",
       "      <td>...</td>\n",
       "      <td>...</td>\n",
       "      <td>...</td>\n",
       "      <td>...</td>\n",
       "      <td>...</td>\n",
       "      <td>...</td>\n",
       "      <td>...</td>\n",
       "      <td>...</td>\n",
       "      <td>...</td>\n",
       "      <td>...</td>\n",
       "      <td>...</td>\n",
       "      <td>...</td>\n",
       "    </tr>\n",
       "    <tr>\n",
       "      <th>15985</th>\n",
       "      <td>3.0</td>\n",
       "      <td>1.529270</td>\n",
       "      <td>11.752128</td>\n",
       "      <td>0.000000</td>\n",
       "      <td>1.874312</td>\n",
       "      <td>2.0</td>\n",
       "      <td>7.494120</td>\n",
       "      <td>13.151246</td>\n",
       "      <td>47758782</td>\n",
       "      <td>22.441010</td>\n",
       "      <td>507.0</td>\n",
       "      <td>44.0</td>\n",
       "      <td>2.408230</td>\n",
       "      <td>0.147778</td>\n",
       "      <td>110.421372</td>\n",
       "      <td>0.1317</td>\n",
       "      <td>48.5</td>\n",
       "      <td>12</td>\n",
       "      <td>0.088961</td>\n",
       "    </tr>\n",
       "    <tr>\n",
       "      <th>15986</th>\n",
       "      <td>2.0</td>\n",
       "      <td>1.866430</td>\n",
       "      <td>10.187337</td>\n",
       "      <td>0.000000</td>\n",
       "      <td>1.873342</td>\n",
       "      <td>2.0</td>\n",
       "      <td>13.960118</td>\n",
       "      <td>0.000000</td>\n",
       "      <td>47713245</td>\n",
       "      <td>22.441010</td>\n",
       "      <td>507.0</td>\n",
       "      <td>44.0</td>\n",
       "      <td>2.408230</td>\n",
       "      <td>0.147778</td>\n",
       "      <td>110.421372</td>\n",
       "      <td>0.1317</td>\n",
       "      <td>48.5</td>\n",
       "      <td>12</td>\n",
       "      <td>0.056294</td>\n",
       "    </tr>\n",
       "    <tr>\n",
       "      <th>15987</th>\n",
       "      <td>2.0</td>\n",
       "      <td>0.850742</td>\n",
       "      <td>10.308070</td>\n",
       "      <td>0.000000</td>\n",
       "      <td>1.874988</td>\n",
       "      <td>2.0</td>\n",
       "      <td>13.135706</td>\n",
       "      <td>0.000000</td>\n",
       "      <td>47713748</td>\n",
       "      <td>22.441010</td>\n",
       "      <td>507.0</td>\n",
       "      <td>44.0</td>\n",
       "      <td>2.408230</td>\n",
       "      <td>0.147778</td>\n",
       "      <td>110.421372</td>\n",
       "      <td>0.1317</td>\n",
       "      <td>48.5</td>\n",
       "      <td>10</td>\n",
       "      <td>0.046911</td>\n",
       "    </tr>\n",
       "    <tr>\n",
       "      <th>15988</th>\n",
       "      <td>3.0</td>\n",
       "      <td>1.493061</td>\n",
       "      <td>12.912810</td>\n",
       "      <td>0.000000</td>\n",
       "      <td>1.875168</td>\n",
       "      <td>1.0</td>\n",
       "      <td>16.808262</td>\n",
       "      <td>0.000000</td>\n",
       "      <td>47760904</td>\n",
       "      <td>22.441010</td>\n",
       "      <td>507.0</td>\n",
       "      <td>44.0</td>\n",
       "      <td>2.408230</td>\n",
       "      <td>0.147778</td>\n",
       "      <td>110.421372</td>\n",
       "      <td>0.1317</td>\n",
       "      <td>48.5</td>\n",
       "      <td>11</td>\n",
       "      <td>0.116063</td>\n",
       "    </tr>\n",
       "    <tr>\n",
       "      <th>15989</th>\n",
       "      <td>2.0</td>\n",
       "      <td>0.850742</td>\n",
       "      <td>10.815810</td>\n",
       "      <td>0.000000</td>\n",
       "      <td>1.872442</td>\n",
       "      <td>2.0</td>\n",
       "      <td>7.787787</td>\n",
       "      <td>0.000000</td>\n",
       "      <td>47712544</td>\n",
       "      <td>22.441010</td>\n",
       "      <td>507.0</td>\n",
       "      <td>44.0</td>\n",
       "      <td>2.408230</td>\n",
       "      <td>0.147778</td>\n",
       "      <td>110.421372</td>\n",
       "      <td>0.1317</td>\n",
       "      <td>48.5</td>\n",
       "      <td>10</td>\n",
       "      <td>0.080173</td>\n",
       "    </tr>\n",
       "  </tbody>\n",
       "</table>\n",
       "<p>4402 rows × 19 columns</p>\n",
       "</div>"
      ],
      "text/plain": [
       "       BedroomCnt  BathroomCnt  FinishedSquareFeet  GarageSquareFeet  \\\n",
       "11588         5.0     2.641809           15.385954          0.000000   \n",
       "11589         5.0     2.115642           13.156240        252.500906   \n",
       "11590         4.0     1.529270           12.168459          0.000000   \n",
       "11591         2.0     0.850742           10.887769        140.768147   \n",
       "11592         4.0     2.115642           13.636572        269.573953   \n",
       "...           ...          ...                 ...               ...   \n",
       "15985         3.0     1.529270           11.752128          0.000000   \n",
       "15986         2.0     1.866430           10.187337          0.000000   \n",
       "15987         2.0     0.850742           10.308070          0.000000   \n",
       "15988         3.0     1.493061           12.912810          0.000000   \n",
       "15989         2.0     0.850742           10.815810          0.000000   \n",
       "\n",
       "       LotSizeSquareFeet  StoryCnt  BuiltYear   ViewType  Latitude  \\\n",
       "11588           1.877729       1.0  19.531715  12.827232  47725642   \n",
       "11589           1.877849       1.0  14.948505  12.827232  47726993   \n",
       "11590           1.871111       2.0  21.418257   0.000000  47731749   \n",
       "11591           1.873607       1.0  19.531715   0.000000  47728810   \n",
       "11592           1.877387       1.0  17.688949  13.151246  47731170   \n",
       "...                  ...       ...        ...        ...       ...   \n",
       "15985           1.874312       2.0   7.494120  13.151246  47758782   \n",
       "15986           1.873342       2.0  13.960118   0.000000  47713245   \n",
       "15987           1.874988       2.0  13.135706   0.000000  47713748   \n",
       "15988           1.875168       1.0  16.808262   0.000000  47760904   \n",
       "15989           1.872442       2.0   7.787787   0.000000  47712544   \n",
       "\n",
       "       BGMedHomeValue  BGMedRent  BGMedYearBuilt  BGPctOwn  BGPctVacant  \\\n",
       "11588       25.930272     1750.0            59.0  5.484994     0.073994   \n",
       "11589       25.930272     1750.0            59.0  5.484994     0.073994   \n",
       "11590       25.930272     1750.0            59.0  5.484994     0.073994   \n",
       "11591       25.930272     1750.0            59.0  5.484994     0.073994   \n",
       "11592       25.930272     1750.0            59.0  5.484994     0.073994   \n",
       "...               ...        ...             ...       ...          ...   \n",
       "15985       22.441010      507.0            44.0  2.408230     0.147778   \n",
       "15986       22.441010      507.0            44.0  2.408230     0.147778   \n",
       "15987       22.441010      507.0            44.0  2.408230     0.147778   \n",
       "15988       22.441010      507.0            44.0  2.408230     0.147778   \n",
       "15989       22.441010      507.0            44.0  2.408230     0.147778   \n",
       "\n",
       "       BGMedIncome  BGPctKids  BGMedAge  month  Proportion  \n",
       "11588   188.298812     0.2524      49.6     10    0.159286  \n",
       "11589   188.298812     0.2524      49.6     11    0.081992  \n",
       "11590   188.298812     0.2524      49.6     10    0.144907  \n",
       "11591   188.298812     0.2524      49.6     11    0.071401  \n",
       "11592   188.298812     0.2524      49.6     12    0.103743  \n",
       "...            ...        ...       ...    ...         ...  \n",
       "15985   110.421372     0.1317      48.5     12    0.088961  \n",
       "15986   110.421372     0.1317      48.5     12    0.056294  \n",
       "15987   110.421372     0.1317      48.5     10    0.046911  \n",
       "15988   110.421372     0.1317      48.5     11    0.116063  \n",
       "15989   110.421372     0.1317      48.5     10    0.080173  \n",
       "\n",
       "[4402 rows x 19 columns]"
      ]
     },
     "execution_count": 29,
     "metadata": {},
     "output_type": "execute_result"
    }
   ],
   "source": [
    "X_test"
   ]
  },
  {
   "cell_type": "code",
   "execution_count": 30,
   "metadata": {},
   "outputs": [],
   "source": [
    "#df = df[['BGMedHomeValue', 'BathroomCnt', 'FinishedSquareFeet', 'SaleDollarCnt','BGMedIncome', 'Latitude', 'StoryCnt', 'ViewType', 'GarageSquareFeet','BuiltYear']]\n",
    "#X = df.drop(['SaleDollarCnt'],axis=1)\n",
    "#X_test = df_test  #[['BGMedHomeValue', 'BathroomCnt', 'FinishedSquareFeet','BGMedIncome', 'Latitude', 'StoryCnt', 'ViewType', 'GarageSquareFeet','BuiltYear']]\n",
    "#indexing = X_test.index\n",
    "#X_test"
   ]
  },
  {
   "cell_type": "markdown",
   "metadata": {},
   "source": [
    "##### Scaling the Dataset. Scaling the data helps to reach convergence quickly & accurately"
   ]
  },
  {
   "cell_type": "code",
   "execution_count": 31,
   "metadata": {},
   "outputs": [],
   "source": [
    "scaler = StandardScaler()\n",
    "scaler.fit(X)\n",
    "X = scaler.transform(X)\n",
    "X_test= scaler.transform(X_test)\n",
    "#X_test = scaler.fit(X_test)"
   ]
  },
  {
   "cell_type": "code",
   "execution_count": 32,
   "metadata": {},
   "outputs": [],
   "source": [
    "# This was for training purposes only. Used test set for final submission\n",
    "\n",
    "#X_train, X_test, y_train, y_test = train_test_split(X, y, test_size=0.3)\n"
   ]
  },
  {
   "cell_type": "code",
   "execution_count": 33,
   "metadata": {},
   "outputs": [
    {
     "data": {
      "text/plain": [
       "array([[ 1.78849368,  1.80566037,  2.52898874, ...,  1.46103298,\n",
       "         2.13926773, -0.2058447 ],\n",
       "       [ 1.78849368,  0.79678808,  0.46115705, ...,  1.46103298,\n",
       "         2.74914877, -1.26107324],\n",
       "       [ 0.63328505, -0.3275209 , -0.454908  , ...,  1.46103298,\n",
       "         2.13926773, -0.40215473],\n",
       "       ...,\n",
       "       [-1.67713219, -1.62853079, -2.18022899, ...,  1.29749196,\n",
       "         2.13926773, -1.7400105 ],\n",
       "       [-0.52192357, -0.3969484 ,  0.23540142, ...,  1.29749196,\n",
       "         2.74914877, -0.79593923],\n",
       "       [-1.67713219, -1.62853079, -1.70935167, ...,  1.29749196,\n",
       "         2.13926773, -1.28590849]])"
      ]
     },
     "execution_count": 33,
     "metadata": {},
     "output_type": "execute_result"
    }
   ],
   "source": [
    "X_train = X\n",
    "y_train = y\n",
    "#print(X_test.shape)\n",
    "X_test"
   ]
  },
  {
   "cell_type": "markdown",
   "metadata": {},
   "source": [
    "------------------------------------------------------------------------------------------------------------------------------"
   ]
  },
  {
   "cell_type": "markdown",
   "metadata": {},
   "source": [
    "# Model Training (Linear Regression)"
   ]
  },
  {
   "cell_type": "code",
   "execution_count": 34,
   "metadata": {},
   "outputs": [
    {
     "data": {
      "text/plain": [
       "LinearRegression(normalize=True)"
      ]
     },
     "execution_count": 34,
     "metadata": {},
     "output_type": "execute_result"
    }
   ],
   "source": [
    "linear_Model = LinearRegression(normalize=True)\n",
    "\n",
    "linear_Model.fit(X_train,y_train)"
   ]
  },
  {
   "cell_type": "code",
   "execution_count": 35,
   "metadata": {},
   "outputs": [],
   "source": [
    "predictions = linear_Model.predict(X_test)\n",
    "predictions = np.expm1(predictions)   #Inverse log to get actual SaleDollarCnt values"
   ]
  },
  {
   "cell_type": "code",
   "execution_count": 36,
   "metadata": {},
   "outputs": [
    {
     "ename": "NameError",
     "evalue": "name 'y_test' is not defined",
     "output_type": "error",
     "traceback": [
      "\u001b[1;31m---------------------------------------------------------------------------\u001b[0m",
      "\u001b[1;31mNameError\u001b[0m                                 Traceback (most recent call last)",
      "\u001b[1;32m<ipython-input-36-a212e01a924e>\u001b[0m in \u001b[0;36m<module>\u001b[1;34m\u001b[0m\n\u001b[0;32m      1\u001b[0m \u001b[1;31m# Used this to visualize the results against true values. Doesn't apply to final notebook\u001b[0m\u001b[1;33m\u001b[0m\u001b[1;33m\u001b[0m\u001b[1;33m\u001b[0m\u001b[0m\n\u001b[0;32m      2\u001b[0m \u001b[1;33m\u001b[0m\u001b[0m\n\u001b[1;32m----> 3\u001b[1;33m \u001b[0mdfr\u001b[0m \u001b[1;33m=\u001b[0m \u001b[0mpd\u001b[0m\u001b[1;33m.\u001b[0m\u001b[0mDataFrame\u001b[0m\u001b[1;33m(\u001b[0m\u001b[1;33m{\u001b[0m\u001b[1;34m'y_test'\u001b[0m\u001b[1;33m:\u001b[0m \u001b[0mnp\u001b[0m\u001b[1;33m.\u001b[0m\u001b[0mexpm1\u001b[0m\u001b[1;33m(\u001b[0m\u001b[0my_test\u001b[0m\u001b[1;33m)\u001b[0m\u001b[1;33m,\u001b[0m\u001b[1;34m'predictions'\u001b[0m\u001b[1;33m:\u001b[0m \u001b[0mpredictions\u001b[0m\u001b[1;33m}\u001b[0m\u001b[1;33m)\u001b[0m\u001b[1;33m\u001b[0m\u001b[1;33m\u001b[0m\u001b[0m\n\u001b[0m\u001b[0;32m      4\u001b[0m \u001b[0mdfr\u001b[0m\u001b[1;33m\u001b[0m\u001b[1;33m\u001b[0m\u001b[0m\n",
      "\u001b[1;31mNameError\u001b[0m: name 'y_test' is not defined"
     ]
    }
   ],
   "source": [
    "# Used this to visualize the results against true values. Doesn't apply to final notebook\n",
    "\n",
    "dfr = pd.DataFrame({'y_test': np.expm1(y_test),'predictions': predictions})\n",
    "dfr"
   ]
  },
  {
   "cell_type": "code",
   "execution_count": 37,
   "metadata": {},
   "outputs": [
    {
     "data": {
      "text/html": [
       "<div>\n",
       "<style scoped>\n",
       "    .dataframe tbody tr th:only-of-type {\n",
       "        vertical-align: middle;\n",
       "    }\n",
       "\n",
       "    .dataframe tbody tr th {\n",
       "        vertical-align: top;\n",
       "    }\n",
       "\n",
       "    .dataframe thead th {\n",
       "        text-align: right;\n",
       "    }\n",
       "</style>\n",
       "<table border=\"1\" class=\"dataframe\">\n",
       "  <thead>\n",
       "    <tr style=\"text-align: right;\">\n",
       "      <th></th>\n",
       "      <th>PropertyID</th>\n",
       "      <th>predictions</th>\n",
       "    </tr>\n",
       "  </thead>\n",
       "  <tbody>\n",
       "    <tr>\n",
       "      <th>0</th>\n",
       "      <td>48735321</td>\n",
       "      <td>1.405776e+06</td>\n",
       "    </tr>\n",
       "    <tr>\n",
       "      <th>1</th>\n",
       "      <td>48735471</td>\n",
       "      <td>8.792134e+05</td>\n",
       "    </tr>\n",
       "    <tr>\n",
       "      <th>2</th>\n",
       "      <td>49128764</td>\n",
       "      <td>6.249304e+05</td>\n",
       "    </tr>\n",
       "    <tr>\n",
       "      <th>3</th>\n",
       "      <td>48897535</td>\n",
       "      <td>4.736221e+05</td>\n",
       "    </tr>\n",
       "    <tr>\n",
       "      <th>4</th>\n",
       "      <td>49083957</td>\n",
       "      <td>9.963408e+05</td>\n",
       "    </tr>\n",
       "    <tr>\n",
       "      <th>...</th>\n",
       "      <td>...</td>\n",
       "      <td>...</td>\n",
       "    </tr>\n",
       "    <tr>\n",
       "      <th>4397</th>\n",
       "      <td>49034257</td>\n",
       "      <td>3.563023e+05</td>\n",
       "    </tr>\n",
       "    <tr>\n",
       "      <th>4398</th>\n",
       "      <td>49101515</td>\n",
       "      <td>2.281468e+05</td>\n",
       "    </tr>\n",
       "    <tr>\n",
       "      <th>4399</th>\n",
       "      <td>49092758</td>\n",
       "      <td>2.206405e+05</td>\n",
       "    </tr>\n",
       "    <tr>\n",
       "      <th>4400</th>\n",
       "      <td>49034232</td>\n",
       "      <td>3.955268e+05</td>\n",
       "    </tr>\n",
       "    <tr>\n",
       "      <th>4401</th>\n",
       "      <td>49092730</td>\n",
       "      <td>2.561389e+05</td>\n",
       "    </tr>\n",
       "  </tbody>\n",
       "</table>\n",
       "<p>4402 rows × 2 columns</p>\n",
       "</div>"
      ],
      "text/plain": [
       "      PropertyID   predictions\n",
       "0       48735321  1.405776e+06\n",
       "1       48735471  8.792134e+05\n",
       "2       49128764  6.249304e+05\n",
       "3       48897535  4.736221e+05\n",
       "4       49083957  9.963408e+05\n",
       "...          ...           ...\n",
       "4397    49034257  3.563023e+05\n",
       "4398    49101515  2.281468e+05\n",
       "4399    49092758  2.206405e+05\n",
       "4400    49034232  3.955268e+05\n",
       "4401    49092730  2.561389e+05\n",
       "\n",
       "[4402 rows x 2 columns]"
      ]
     },
     "execution_count": 37,
     "metadata": {},
     "output_type": "execute_result"
    }
   ],
   "source": [
    "test_result = pd.DataFrame({'PropertyID': indexing, 'predictions': predictions})\n",
    "test_result"
   ]
  },
  {
   "cell_type": "code",
   "execution_count": 38,
   "metadata": {},
   "outputs": [
    {
     "data": {
      "text/plain": [
       "0.8313606065726724"
      ]
     },
     "execution_count": 38,
     "metadata": {},
     "output_type": "execute_result"
    }
   ],
   "source": [
    "linear_Model.score(X_train, y_train)"
   ]
  },
  {
   "cell_type": "markdown",
   "metadata": {},
   "source": [
    "Used MSE & MAPE Scores to determine model"
   ]
  },
  {
   "cell_type": "code",
   "execution_count": null,
   "metadata": {},
   "outputs": [],
   "source": [
    "#print(np.sqrt(metrics.mean_squared_error(np.expm1(y_test),predictions)))"
   ]
  },
  {
   "cell_type": "code",
   "execution_count": null,
   "metadata": {},
   "outputs": [],
   "source": [
    "def mean_absolute_percentage_error(y_true, y_pred): \n",
    "    y_true, y_pred = np.array(y_true), np.array(y_pred)\n",
    "    return np.mean(np.abs((y_true - y_pred) / y_true)) * 100\n"
   ]
  },
  {
   "cell_type": "code",
   "execution_count": null,
   "metadata": {},
   "outputs": [],
   "source": [
    "mean_absolute_percentage_error(np.expm1(y_test),predictions)"
   ]
  },
  {
   "cell_type": "markdown",
   "metadata": {},
   "source": [
    "# Lasso CV\n",
    "\n",
    "To prevent over-fitting, I used Lasso Regression. It imposes penalities which causes the regression coefficients to shrink towards zero. At the same time, it also helps in feature selection, picking features that minimizes prediction error\n"
   ]
  },
  {
   "cell_type": "code",
   "execution_count": 39,
   "metadata": {},
   "outputs": [],
   "source": [
    "from sklearn.linear_model import LassoCV, RidgeCV\n",
    "from sklearn.pipeline import make_pipeline\n",
    "from sklearn.preprocessing import RobustScaler"
   ]
  },
  {
   "cell_type": "code",
   "execution_count": 40,
   "metadata": {},
   "outputs": [],
   "source": [
    "best_alpha = 1e-15\n",
    "regr = Lasso(alpha=best_alpha, max_iter=50000)"
   ]
  },
  {
   "cell_type": "code",
   "execution_count": 41,
   "metadata": {},
   "outputs": [
    {
     "data": {
      "text/plain": [
       "Lasso(alpha=1e-15, max_iter=50000)"
      ]
     },
     "execution_count": 41,
     "metadata": {},
     "output_type": "execute_result"
    }
   ],
   "source": [
    "regr.fit(X_train,y_train)"
   ]
  },
  {
   "cell_type": "code",
   "execution_count": 42,
   "metadata": {},
   "outputs": [],
   "source": [
    "predictions = regr.predict(X_test)\n",
    "predictions = np.expm1(predictions)"
   ]
  },
  {
   "cell_type": "code",
   "execution_count": 43,
   "metadata": {},
   "outputs": [],
   "source": [
    "#mean_absolute_percentage_error(np.expm1(y_test),np.expm1(predictions))"
   ]
  },
  {
   "cell_type": "code",
   "execution_count": null,
   "metadata": {},
   "outputs": [],
   "source": [
    "sns.residplot(df.FinishedSquareFeet, df.SaleDollarCnt);"
   ]
  },
  {
   "cell_type": "code",
   "execution_count": null,
   "metadata": {},
   "outputs": [],
   "source": [
    "fig = plt.figure()\n",
    "res = stats.probplot(df['SaleDollarCnt'], plot=plt)\n",
    "plt.show()"
   ]
  },
  {
   "cell_type": "markdown",
   "metadata": {},
   "source": [
    "##### This plot visualizes the residual and their normal distribution, indicating a good fit. Was used when building the regression model"
   ]
  },
  {
   "cell_type": "code",
   "execution_count": null,
   "metadata": {},
   "outputs": [],
   "source": [
    "visualizer = ResidualsPlot(linear_Model)\n",
    "visualizer.fit(X_train, y_train)  # Fit the training data to the visualizer\n",
    "visualizer.score(X_test, y_test)  # Evaluate the model on the test data\n",
    "visualizer.show()"
   ]
  },
  {
   "cell_type": "markdown",
   "metadata": {},
   "source": [
    "------------------------------------------------------------------------------------------------------------------------------"
   ]
  },
  {
   "cell_type": "markdown",
   "metadata": {},
   "source": [
    "# Model Training (XGBoost)"
   ]
  },
  {
   "cell_type": "code",
   "execution_count": 88,
   "metadata": {},
   "outputs": [],
   "source": [
    "xgboost1 = xgb.XGBRegressor(n_estimators=500, learning_rate=0.03, gamma=0, subsample=0.75,\n",
    "                            colsample_bytree=0.7,loss='huber', max_depth=7, min_child_weight = 4, objective = 'reg:linear', max_features='sqrt', nthread=-1,\n",
    "                            scale_pos_weight=1)"
   ]
  },
  {
   "cell_type": "code",
   "execution_count": 89,
   "metadata": {},
   "outputs": [
    {
     "name": "stdout",
     "output_type": "stream",
     "text": [
      "[17:37:57] WARNING: C:/Users/Administrator/workspace/xgboost-win64_release_1.2.0/src/objective/regression_obj.cu:174: reg:linear is now deprecated in favor of reg:squarederror.\n",
      "[17:37:57] WARNING: C:\\Users\\Administrator\\workspace\\xgboost-win64_release_1.2.0\\src\\learner.cc:516: \n",
      "Parameters: { loss, max_features } might not be used.\n",
      "\n",
      "  This may not be accurate due to some parameters are only used in language bindings but\n",
      "  passed down to XGBoost core.  Or some parameters are not used but slip through this\n",
      "  verification. Please open an issue if you find above cases.\n",
      "\n",
      "\n",
      "[17:38:01] WARNING: C:/Users/Administrator/workspace/xgboost-win64_release_1.2.0/src/objective/regression_obj.cu:174: reg:linear is now deprecated in favor of reg:squarederror.\n"
     ]
    },
    {
     "data": {
      "text/plain": [
       "XGBRegressor(base_score=0.5, booster='gbtree', colsample_bylevel=1,\n",
       "             colsample_bynode=1, colsample_bytree=0.7, gamma=0, gpu_id=-1,\n",
       "             importance_type='gain', interaction_constraints='',\n",
       "             learning_rate=0.03, loss='huber', max_delta_step=0, max_depth=7,\n",
       "             max_features='sqrt', min_child_weight=4, missing=nan,\n",
       "             monotone_constraints='()', n_estimators=500, n_jobs=-1, nthread=-1,\n",
       "             num_parallel_tree=1, objective='reg:linear', random_state=0,\n",
       "             reg_alpha=0, reg_lambda=1, scale_pos_weight=1, subsample=0.75,\n",
       "             tree_method='exact', validate_parameters=1, verbosity=None)"
      ]
     },
     "execution_count": 89,
     "metadata": {},
     "output_type": "execute_result"
    }
   ],
   "source": [
    "xgboost1.fit(X_train,y_train)"
   ]
  },
  {
   "cell_type": "code",
   "execution_count": 90,
   "metadata": {},
   "outputs": [],
   "source": [
    "predictions = xgboost1.predict(X_test)\n",
    "predictions = np.expm1(predictions)"
   ]
  },
  {
   "cell_type": "code",
   "execution_count": 91,
   "metadata": {},
   "outputs": [
    {
     "data": {
      "text/html": [
       "<div>\n",
       "<style scoped>\n",
       "    .dataframe tbody tr th:only-of-type {\n",
       "        vertical-align: middle;\n",
       "    }\n",
       "\n",
       "    .dataframe tbody tr th {\n",
       "        vertical-align: top;\n",
       "    }\n",
       "\n",
       "    .dataframe thead th {\n",
       "        text-align: right;\n",
       "    }\n",
       "</style>\n",
       "<table border=\"1\" class=\"dataframe\">\n",
       "  <thead>\n",
       "    <tr style=\"text-align: right;\">\n",
       "      <th></th>\n",
       "      <th>PropertyID</th>\n",
       "      <th>SaleDollarCnt</th>\n",
       "    </tr>\n",
       "  </thead>\n",
       "  <tbody>\n",
       "    <tr>\n",
       "      <th>0</th>\n",
       "      <td>48735321</td>\n",
       "      <td>2.039147e+06</td>\n",
       "    </tr>\n",
       "    <tr>\n",
       "      <th>1</th>\n",
       "      <td>48735471</td>\n",
       "      <td>9.440528e+05</td>\n",
       "    </tr>\n",
       "    <tr>\n",
       "      <th>2</th>\n",
       "      <td>49128764</td>\n",
       "      <td>5.298016e+05</td>\n",
       "    </tr>\n",
       "    <tr>\n",
       "      <th>3</th>\n",
       "      <td>48897535</td>\n",
       "      <td>4.100739e+05</td>\n",
       "    </tr>\n",
       "    <tr>\n",
       "      <th>4</th>\n",
       "      <td>49083957</td>\n",
       "      <td>1.166914e+06</td>\n",
       "    </tr>\n",
       "    <tr>\n",
       "      <th>...</th>\n",
       "      <td>...</td>\n",
       "      <td>...</td>\n",
       "    </tr>\n",
       "    <tr>\n",
       "      <th>4397</th>\n",
       "      <td>49034257</td>\n",
       "      <td>2.390492e+05</td>\n",
       "    </tr>\n",
       "    <tr>\n",
       "      <th>4398</th>\n",
       "      <td>49101515</td>\n",
       "      <td>9.131253e+04</td>\n",
       "    </tr>\n",
       "    <tr>\n",
       "      <th>4399</th>\n",
       "      <td>49092758</td>\n",
       "      <td>9.248500e+04</td>\n",
       "    </tr>\n",
       "    <tr>\n",
       "      <th>4400</th>\n",
       "      <td>49034232</td>\n",
       "      <td>2.796223e+05</td>\n",
       "    </tr>\n",
       "    <tr>\n",
       "      <th>4401</th>\n",
       "      <td>49092730</td>\n",
       "      <td>1.282838e+05</td>\n",
       "    </tr>\n",
       "  </tbody>\n",
       "</table>\n",
       "<p>4402 rows × 2 columns</p>\n",
       "</div>"
      ],
      "text/plain": [
       "      PropertyID  SaleDollarCnt\n",
       "0       48735321   2.039147e+06\n",
       "1       48735471   9.440528e+05\n",
       "2       49128764   5.298016e+05\n",
       "3       48897535   4.100739e+05\n",
       "4       49083957   1.166914e+06\n",
       "...          ...            ...\n",
       "4397    49034257   2.390492e+05\n",
       "4398    49101515   9.131253e+04\n",
       "4399    49092758   9.248500e+04\n",
       "4400    49034232   2.796223e+05\n",
       "4401    49092730   1.282838e+05\n",
       "\n",
       "[4402 rows x 2 columns]"
      ]
     },
     "execution_count": 91,
     "metadata": {},
     "output_type": "execute_result"
    }
   ],
   "source": [
    "dfr = pd.DataFrame({'PropertyID': indexing, 'SaleDollarCnt': predictions})\n",
    "dfr"
   ]
  },
  {
   "cell_type": "code",
   "execution_count": 92,
   "metadata": {},
   "outputs": [
    {
     "data": {
      "text/html": [
       "<div>\n",
       "<style scoped>\n",
       "    .dataframe tbody tr th:only-of-type {\n",
       "        vertical-align: middle;\n",
       "    }\n",
       "\n",
       "    .dataframe tbody tr th {\n",
       "        vertical-align: top;\n",
       "    }\n",
       "\n",
       "    .dataframe thead th {\n",
       "        text-align: right;\n",
       "    }\n",
       "</style>\n",
       "<table border=\"1\" class=\"dataframe\">\n",
       "  <thead>\n",
       "    <tr style=\"text-align: right;\">\n",
       "      <th></th>\n",
       "      <th>PropertyID</th>\n",
       "      <th>SaleDollarCnt</th>\n",
       "    </tr>\n",
       "  </thead>\n",
       "  <tbody>\n",
       "    <tr>\n",
       "      <th>0</th>\n",
       "      <td>48735321</td>\n",
       "      <td>2.039147e+06</td>\n",
       "    </tr>\n",
       "    <tr>\n",
       "      <th>1</th>\n",
       "      <td>48735471</td>\n",
       "      <td>9.440528e+05</td>\n",
       "    </tr>\n",
       "    <tr>\n",
       "      <th>2</th>\n",
       "      <td>49128764</td>\n",
       "      <td>5.298016e+05</td>\n",
       "    </tr>\n",
       "    <tr>\n",
       "      <th>3</th>\n",
       "      <td>48897535</td>\n",
       "      <td>4.100739e+05</td>\n",
       "    </tr>\n",
       "    <tr>\n",
       "      <th>4</th>\n",
       "      <td>49083957</td>\n",
       "      <td>1.166914e+06</td>\n",
       "    </tr>\n",
       "    <tr>\n",
       "      <th>...</th>\n",
       "      <td>...</td>\n",
       "      <td>...</td>\n",
       "    </tr>\n",
       "    <tr>\n",
       "      <th>4397</th>\n",
       "      <td>49034257</td>\n",
       "      <td>2.390492e+05</td>\n",
       "    </tr>\n",
       "    <tr>\n",
       "      <th>4398</th>\n",
       "      <td>49101515</td>\n",
       "      <td>9.131253e+04</td>\n",
       "    </tr>\n",
       "    <tr>\n",
       "      <th>4399</th>\n",
       "      <td>49092758</td>\n",
       "      <td>9.248500e+04</td>\n",
       "    </tr>\n",
       "    <tr>\n",
       "      <th>4400</th>\n",
       "      <td>49034232</td>\n",
       "      <td>2.796223e+05</td>\n",
       "    </tr>\n",
       "    <tr>\n",
       "      <th>4401</th>\n",
       "      <td>49092730</td>\n",
       "      <td>1.282838e+05</td>\n",
       "    </tr>\n",
       "  </tbody>\n",
       "</table>\n",
       "<p>4402 rows × 2 columns</p>\n",
       "</div>"
      ],
      "text/plain": [
       "      PropertyID  SaleDollarCnt\n",
       "0       48735321   2.039147e+06\n",
       "1       48735471   9.440528e+05\n",
       "2       49128764   5.298016e+05\n",
       "3       48897535   4.100739e+05\n",
       "4       49083957   1.166914e+06\n",
       "...          ...            ...\n",
       "4397    49034257   2.390492e+05\n",
       "4398    49101515   9.131253e+04\n",
       "4399    49092758   9.248500e+04\n",
       "4400    49034232   2.796223e+05\n",
       "4401    49092730   1.282838e+05\n",
       "\n",
       "[4402 rows x 2 columns]"
      ]
     },
     "execution_count": 92,
     "metadata": {},
     "output_type": "execute_result"
    }
   ],
   "source": [
    "dfr = pd.DataFrame({'PropertyID': indexing, 'SaleDollarCnt': predictions})\n",
    "dfr"
   ]
  },
  {
   "cell_type": "markdown",
   "metadata": {},
   "source": [
    "Evaluation\n",
    "\n",
    "- As shown in the report, I compare the Feature Importance graphs before & after feature additions.\n",
    "- BuiltYear becomes the 4th most important feature.\n",
    "- Latitude acutally is the top most feature suprisingly This suggest ZoneCode can also be leveraged for a good prediction"
   ]
  },
  {
   "cell_type": "code",
   "execution_count": 93,
   "metadata": {},
   "outputs": [
    {
     "data": {
      "image/png": "[encoded data removed]",
      "text/plain": [
       "<Figure size 864x1296 with 1 Axes>"
      ]
     },
     "metadata": {},
     "output_type": "display_data"
    }
   ],
   "source": [
    "# plot the important features #\n",
    "fig, ax = plt.subplots(figsize=(12,18))\n",
    "xgb.plot_importance(xgboost1, max_num_features=100, height=0.8, ax=ax)\n",
    "plt.show()"
   ]
  },
  {
   "cell_type": "code",
   "execution_count": 94,
   "metadata": {},
   "outputs": [],
   "source": [
    "dfr.to_csv('Gohar_Usman_Predictions.csv', index=False)"
   ]
  },
  {
   "cell_type": "code",
   "execution_count": null,
   "metadata": {},
   "outputs": [],
   "source": [
    "mean_absolute_percentage_error(np.expm1(y_test),(predictions))"
   ]
  },
  {
   "cell_type": "code",
   "execution_count": null,
   "metadata": {},
   "outputs": [],
   "source": [
    "dfr = pd.DataFrame({\"Real\": np.expm1(y_test),'predictions': predictions})\n",
    "dfr"
   ]
  },
  {
   "cell_type": "markdown",
   "metadata": {},
   "source": [
    "------------------------------------------------------------------------------------------------------------------------------"
   ]
  },
  {
   "cell_type": "markdown",
   "metadata": {},
   "source": [
    "# Experiments & Parameter Tuning\n",
    "\n",
    "This was done when I split the training set into train & test sets. Helped pick the best parameters & features"
   ]
  },
  {
   "cell_type": "markdown",
   "metadata": {},
   "source": [
    "# Lasso Alpha"
   ]
  },
  {
   "cell_type": "code",
   "execution_count": null,
   "metadata": {},
   "outputs": [],
   "source": [
    "#Search for best alpha value based on minimizing mse & rss values\n",
    "\n",
    "alpha_lasso = [-3,-2,-1,1e-15, 1e-10, 1e-8,1e-5,1e-4, 1e-3,1e-2,0.5,1,1.5, 2,3,4, 5, 10, 20, 30, 40]\n",
    "alphas_alt = [14.5, 14.6, 14.7, 14.8, 14.9, 15, 15.1, 15.2, 15.3, 15.4, 15.5]\n",
    "from sklearn.linear_model import Lasso \n",
    "temp_rss = {}\n",
    "temp_mse = {}\n",
    "for i in alpha_lasso:\n",
    "    ## Assigin each model. \n",
    "    lasso_reg = Lasso(alpha= i, normalize=True)\n",
    "    ## fit the model. \n",
    "    lasso_reg.fit(X_train, y_train)\n",
    "    ## Predicting the target value based on \"Test_x\"\n",
    "    y_pred = lasso_reg.predict(X_test)\n",
    "\n",
    "    mse = metrics.mean_squared_error(y_test, y_pred)\n",
    "    rss = sum((y_pred-y_test)**2)\n",
    "    temp_mse[i] = mse\n",
    "    temp_rss[i] = rss\n",
    "    \n",
    "for key, value in sorted(temp_mse.items(), key=lambda item: item[1]):\n",
    "    print(\"%s: %s\" % (key, value))"
   ]
  },
  {
   "cell_type": "code",
   "execution_count": null,
   "metadata": {},
   "outputs": [],
   "source": [
    "for key, value in sorted(temp_rss.items(), key=lambda item: item[1]):\n",
    "    print(\"%s: %s\" % (key, value))"
   ]
  },
  {
   "cell_type": "markdown",
   "metadata": {},
   "source": [
    "------------------------------------------------------------------------------------------------------------------------------"
   ]
  },
  {
   "cell_type": "markdown",
   "metadata": {},
   "source": [
    "# GridSearch\n",
    "Used GridSearch to tune parameters for XGBoost"
   ]
  },
  {
   "cell_type": "code",
   "execution_count": null,
   "metadata": {},
   "outputs": [],
   "source": [
    "from sklearn.model_selection import GridSearchCV\n",
    "from sklearn.linear_model import LassoCV, RidgeCV\n",
    "from sklearn.pipeline import make_pipeline\n",
    "from sklearn.preprocessing import RobustScaler\n",
    "\n",
    "xgb1 = xgb.XGBRegressor()\n",
    "parameters = {'nthread':[4], #when use hyperthread, xgboost may become slower\n",
    "              'objective':['reg:linear'],\n",
    "              'learning_rate': [.03, 0.05, .07], #so called `eta` value\n",
    "              'max_depth': [5, 6, 7],\n",
    "              'min_child_weight': [4],\n",
    "              'silent': [1],\n",
    "              'subsample': [0.7],\n",
    "              'colsample_bytree': [0.7, 1.4, 1, 2],\n",
    "              'n_estimators': [100, 200, 300, 500]}\n",
    "\n",
    "xgb_grid = GridSearchCV(xgb1,\n",
    "                        parameters,\n",
    "                        cv = 5,\n",
    "                        n_jobs = 5,\n",
    "                        verbose=True)"
   ]
  },
  {
   "cell_type": "code",
   "execution_count": null,
   "metadata": {},
   "outputs": [],
   "source": [
    "xgb_grid.fit(X_train,y_train)\n",
    "X_train.shape\n",
    "print(xgb_grid.best_score_)\n",
    "print(xgb_grid.best_params_)"
   ]
  },
  {
   "cell_type": "markdown",
   "metadata": {},
   "source": [
    "-----------------------------------------------------------------------------------------------------------------------------"
   ]
  },
  {
   "cell_type": "markdown",
   "metadata": {},
   "source": [
    "## Stacking"
   ]
  },
  {
   "cell_type": "markdown",
   "metadata": {},
   "source": [
    "The reason behind stacking the models is that it averages out the performance of the models and has an overall better average performanc eon unseen data. In future, I would like to explore this a bit more and also experiment with blending.\n",
    "\n",
    "Models I used were Ridge, Lasso & XGBoost"
   ]
  },
  {
   "cell_type": "code",
   "execution_count": 81,
   "metadata": {},
   "outputs": [],
   "source": [
    "from sklearn.model_selection import StratifiedKFold, cross_val_score, KFold\n",
    "from sklearn.pipeline import make_pipeline\n",
    "from sklearn.preprocessing import RobustScaler\n",
    "\n",
    "\n",
    "alpha_lasso = [-3,-2,-1,1e-15, 1e-10, 1e-8,1e-5,1e-4, 1e-3,1e-2,0.5,1,1.5, 2,3,4, 5, 10, 20, 30, 40]\n",
    "alphas_ridge = [14.5, 14.6, 14.7, 14.8, 14.9, 15, 15.1, 15.2, 15.3, 15.4, 15.5]\n",
    "\n",
    "kfolds = KFold(n_splits=10, shuffle=True, random_state=42)\n",
    "lasso = make_pipeline(RobustScaler(), LassoCV(max_iter=50000, \n",
    "                                              alphas=alpha_lasso, \n",
    "                                              random_state=42, \n",
    "                                              cv=kfolds))\n",
    "ridge = make_pipeline(RobustScaler(), RidgeCV(alphas=alphas_ridge, cv=kfolds))\n",
    "xgboost = xgb.XGBRegressor(n_estimators=500, learning_rate=0.03, gamma=0, subsample=0.75,\n",
    "                            colsample_bytree=0.7,loss='huber', max_depth=7, min_child_weight = 4, objective = 'reg:linear', max_features='sqrt', nthread=-1,\n",
    "                            scale_pos_weight=1, seed=27, reg_alpha=0.00006)"
   ]
  },
  {
   "cell_type": "code",
   "execution_count": null,
   "metadata": {},
   "outputs": [],
   "source": [
    "from mlxtend.regressor import StackingCVRegressor\n",
    "stack_gen = StackingCVRegressor(regressors=(lasso,xgboost1),\n",
    "                                meta_regressor=xgboost,\n",
    "                                use_features_in_secondary=True)\n"
   ]
  },
  {
   "cell_type": "code",
   "execution_count": null,
   "metadata": {},
   "outputs": [],
   "source": [
    "stack_gen_model = stack_gen.fit(np.array(X_train), np.array(y_train))"
   ]
  },
  {
   "cell_type": "code",
   "execution_count": null,
   "metadata": {},
   "outputs": [],
   "source": [
    "def rmsle(y, y_pred):\n",
    "    return np.sqrt(metrics.mean_squared_error(y, y_pred))\n",
    "print('RMSLE score on train data:')\n",
    "#print(rmsle(np.expm1(y_test), np.expm1(stack_gen_model.predict(np.array(X_test)))))\n",
    "print(rmsle(np.expm1(y_train), np.expm1(stack_gen_model.predict(np.array(X_train)))))\n"
   ]
  },
  {
   "cell_type": "code",
   "execution_count": null,
   "metadata": {},
   "outputs": [],
   "source": [
    "#dfr = pd.DataFrame({'PropertyID': X_test.index, \"Real\": np.expm1(y_test),'predictions': np.expm1(stack_gen_model.predict(np.array(X_test)))})\n",
    "dfr = pd.DataFrame({'PropertyID': indexing,'predictions': np.expm1(stack_gen_model.predict(np.array(X_test)))})\n",
    "\n",
    "dfr"
   ]
  },
  {
   "cell_type": "code",
   "execution_count": null,
   "metadata": {},
   "outputs": [],
   "source": [
    "mean_absolute_percentage_error(np.expm1(y_test),np.expm1(stack_gen_model.predict(np.array(X_test))))"
   ]
  },
  {
   "cell_type": "markdown",
   "metadata": {},
   "source": [
    "-------------------------------------------------------------------------------------------------------------------------------"
   ]
  },
  {
   "cell_type": "markdown",
   "metadata": {},
   "source": [
    "## Experimental Work"
   ]
  },
  {
   "cell_type": "markdown",
   "metadata": {},
   "source": [
    "### ZoneCodeCounty feature engineering\n",
    "\n",
    "I did not get a good result and the features did not do well in the feature importance graphs. So subsequently did not use the zonecodecounty\n"
   ]
  },
  {
   "cell_type": "code",
   "execution_count": null,
   "metadata": {},
   "outputs": [],
   "source": [
    "#Example taken from Human Analog notebook on Kaggle to convert ZoneCode into labels. \n",
    "\n",
    "from sklearn.preprocessing import LabelEncoder\n",
    "le = LabelEncoder()\n",
    "\n",
    "def factorize(df, factor_df, column, fill_na=None):\n",
    "    factor_df[column] = df[column]\n",
    "    if fill_na is not None:\n",
    "        factor_df[column].fillna(fill_na, inplace=True)\n",
    "    le.fit(factor_df[column].unique())\n",
    "    factor_df[column] = le.transform(factor_df[column])\n",
    "    return factor_df"
   ]
  },
  {
   "cell_type": "code",
   "execution_count": null,
   "metadata": {},
   "outputs": [],
   "source": [
    "all_df = pd.DataFrame(index = df.index)\n",
    "all_df = factorize(df, all_df, \"ZoneCodeCounty\")"
   ]
  },
  {
   "cell_type": "code",
   "execution_count": null,
   "metadata": {},
   "outputs": [],
   "source": [
    "all_df"
   ]
  },
  {
   "cell_type": "markdown",
   "metadata": {},
   "source": [
    " ---------------------------------------------------------------------------------------------------------------------------"
   ]
  },
  {
   "cell_type": "markdown",
   "metadata": {},
   "source": [
    "\n",
    "### The idea here was to see if the traditional \"Hot\" Real-Estate months have more activity. Turns out, it didn't really help and there were no purchases outside those months in the training set and testing set had no purchases within these months"
   ]
  },
  {
   "cell_type": "code",
   "execution_count": null,
   "metadata": {},
   "outputs": [],
   "source": [
    "all_data['HighSeason'].value_counts()"
   ]
  },
  {
   "cell_type": "code",
   "execution_count": null,
   "metadata": {},
   "outputs": [],
   "source": [
    "all_data[\"HighSeason\"] = all_data[\"month\"].replace( \n",
    "        {1: 0, 2: 0, 3: 0, 4: 1, 5: 1, 6: 1, 7: 1, 8:1, 9: 1, 10: 0, 11: 0, 12: 0})"
   ]
  }
 ],
 "metadata": {
  "kernelspec": {
   "display_name": "Python 3",
   "language": "python",
   "name": "python3"
  },
  "language_info": {
   "codemirror_mode": {
    "name": "ipython",
    "version": 3
   },
   "file_extension": ".py",
   "mimetype": "text/x-python",
   "name": "python",
   "nbconvert_exporter": "python",
   "pygments_lexer": "ipython3",
   "version": "3.8.5"
  }
 },
 "nbformat": 4,
 "nbformat_minor": 4
}
